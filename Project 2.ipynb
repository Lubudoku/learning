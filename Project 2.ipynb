{
 "cells": [
  {
   "cell_type": "markdown",
   "id": "8f91132d-74cb-46c0-908b-632ba0d1336b",
   "metadata": {},
   "source": [
    "# My project: Exploring Hacker News Posts\n",
    "\n",
    "--https://www.kaggle.com/datasets/hacker-news/hacker-news-posts\n",
    "\n",
    "We'll compare these two types of posts to determine the following:\n",
    "\n",
    "Do Ask HN or Show HN receive more comments on average?\n",
    "\n",
    "Do posts created at a certain time receive more comments on average?"
   ]
  },
  {
   "cell_type": "code",
   "execution_count": 2,
   "id": "80e91395-36f9-4519-87ad-446b18977567",
   "metadata": {},
   "outputs": [
    {
     "name": "stdout",
     "output_type": "stream",
     "text": [
      "[['id', 'title', 'url', 'num_points', 'num_comments', 'author', 'created_at'], ['12224879', 'Interactive Dynamic Video', 'http://www.interactivedynamicvideo.com/', '386', '52', 'ne0phyte', '8/4/2016 11:52'], ['10975351', 'How to Use Open Source and Shut the Fuck Up at the Same Time', 'http://hueniverse.com/2016/01/26/how-to-use-open-source-and-shut-the-fuck-up-at-the-same-time/', '39', '10', 'josep2', '1/26/2016 19:30'], ['11964716', \"Florida DJs May Face Felony for April Fools' Water Joke\", 'http://www.thewire.com/entertainment/2013/04/florida-djs-april-fools-water-joke/63798/', '2', '1', 'vezycash', '6/23/2016 22:20'], ['11919867', 'Technology ventures: From Idea to Enterprise', 'https://www.amazon.com/Technology-Ventures-Enterprise-Thomas-Byers/dp/0073523429', '3', '1', 'hswarna', '6/17/2016 0:01']]\n"
     ]
    }
   ],
   "source": [
    "from csv import reader\n",
    "opened_file = open('Downloads/hacker_news.csv')\n",
    "read_file = reader(opened_file)\n",
    "hn = list(read_file)\n",
    "print(hn[:5])"
   ]
  },
  {
   "cell_type": "code",
   "execution_count": 3,
   "id": "cbd4af57-6276-4652-bb89-acd4b08d1fe1",
   "metadata": {},
   "outputs": [
    {
     "name": "stdout",
     "output_type": "stream",
     "text": [
      "['id', 'title', 'url', 'num_points', 'num_comments', 'author', 'created_at']\n",
      "\n",
      "\n",
      "[['12224879', 'Interactive Dynamic Video', 'http://www.interactivedynamicvideo.com/', '386', '52', 'ne0phyte', '8/4/2016 11:52'], ['10975351', 'How to Use Open Source and Shut the Fuck Up at the Same Time', 'http://hueniverse.com/2016/01/26/how-to-use-open-source-and-shut-the-fuck-up-at-the-same-time/', '39', '10', 'josep2', '1/26/2016 19:30'], ['11964716', \"Florida DJs May Face Felony for April Fools' Water Joke\", 'http://www.thewire.com/entertainment/2013/04/florida-djs-april-fools-water-joke/63798/', '2', '1', 'vezycash', '6/23/2016 22:20'], ['11919867', 'Technology ventures: From Idea to Enterprise', 'https://www.amazon.com/Technology-Ventures-Enterprise-Thomas-Byers/dp/0073523429', '3', '1', 'hswarna', '6/17/2016 0:01'], ['10301696', 'Note by Note: The Making of Steinway L1037 (2007)', 'http://www.nytimes.com/2007/11/07/movies/07stein.html?_r=0', '8', '2', 'walterbell', '9/30/2015 4:12']]\n",
      "Length of hn: 20100\n"
     ]
    }
   ],
   "source": [
    "header = hn[0]\n",
    "print(header)\n",
    "print('\\n')\n",
    "hn = hn[1:]\n",
    "print(hn[:5])\n",
    "print('Length of hn: ' + str(len(hn)))"
   ]
  },
  {
   "cell_type": "markdown",
   "id": "4be3a465-d5e5-4d30-a43d-2d7f02010baf",
   "metadata": {},
   "source": [
    "## Calculating the Average Number of Comments for Ask HN and Show HN Posts"
   ]
  },
  {
   "cell_type": "code",
   "execution_count": 4,
   "id": "4b47d159-55f2-46b3-a456-f62148de13c7",
   "metadata": {},
   "outputs": [
    {
     "name": "stdout",
     "output_type": "stream",
     "text": [
      "Length of ask hn: 1744\n",
      "Length of show hn: 1162\n",
      "Length of other hn: 17194\n"
     ]
    }
   ],
   "source": [
    "ask_posts = []\n",
    "show_posts = []\n",
    "other_posts = []\n",
    "for row in hn:\n",
    "    title = row[1]\n",
    "    title = title.lower()\n",
    "    if title.startswith('ask hn'):\n",
    "        ask_posts.append(row)\n",
    "    elif title.startswith('show hn'):\n",
    "        show_posts.append(row)\n",
    "    else:\n",
    "        other_posts.append(row)\n",
    "print('Length of ask hn: ' + str(len(ask_posts)))\n",
    "print('Length of show hn: ' + str(len(show_posts)))\n",
    "print('Length of other hn: ' + str(len(other_posts)))"
   ]
  },
  {
   "cell_type": "code",
   "execution_count": 5,
   "id": "06c5da7c-4574-48b3-a13c-a49eb8f8ab38",
   "metadata": {},
   "outputs": [
    {
     "name": "stdout",
     "output_type": "stream",
     "text": [
      "Average number of comments on ask posts: 14.038417431192661\n",
      "Average number of comments on show posts: 10.31669535283993\n"
     ]
    }
   ],
   "source": [
    "total_ask_comments = 0\n",
    "for row in ask_posts:\n",
    "    num_comments = int(row[4])\n",
    "    total_ask_comments += num_comments\n",
    "avg_ask_comments = total_ask_comments/len(ask_posts)\n",
    "print('Average number of comments on ask posts: ' + str(avg_ask_comments))\n",
    "total_show_comments = 0\n",
    "for row in show_posts:\n",
    "    num_comments = int(row[4])\n",
    "    total_show_comments += num_comments\n",
    "avg_show_comments = total_show_comments/len(show_posts)\n",
    "print('Average number of comments on show posts: ' + str(avg_show_comments))"
   ]
  },
  {
   "cell_type": "markdown",
   "id": "128e6e30-b75b-4534-a73e-2a05ad7cadac",
   "metadata": {},
   "source": [
    "## --> Ask posts receive more comments on average than show posts"
   ]
  },
  {
   "cell_type": "markdown",
   "id": "15512efb-b7cb-49ce-9f24-379353ac821a",
   "metadata": {},
   "source": [
    "## Finding the Number of Ask Posts and Comments by Hour Created"
   ]
  },
  {
   "cell_type": "code",
   "execution_count": 7,
   "id": "c6c11607-70f9-45aa-916e-3486fa666948",
   "metadata": {},
   "outputs": [],
   "source": [
    "import datetime as dt"
   ]
  },
  {
   "cell_type": "code",
   "execution_count": 41,
   "id": "d1928dbb-c652-44c1-b162-bf6d67120c40",
   "metadata": {},
   "outputs": [
    {
     "name": "stdout",
     "output_type": "stream",
     "text": [
      "{'09': 45, '13': 85, '10': 59, '14': 107, '16': 108, '23': 68, '12': 73, '17': 100, '15': 116, '21': 109, '20': 80, '02': 58, '18': 109, '03': 54, '05': 46, '19': 110, '01': 60, '22': 71, '08': 48, '04': 47, '00': 55, '06': 44, '07': 34, '11': 58}\n",
      "{'09': 251, '13': 1253, '10': 793, '14': 1416, '16': 1814, '23': 543, '12': 687, '17': 1146, '15': 4477, '21': 1745, '20': 1722, '02': 1381, '18': 1439, '03': 421, '05': 464, '19': 1188, '01': 683, '22': 479, '08': 492, '04': 337, '00': 447, '06': 397, '07': 267, '11': 641}\n"
     ]
    }
   ],
   "source": [
    "result_list = []\n",
    "for row in ask_posts:\n",
    "    created_at = row[6]\n",
    "    num_comments = row[4]\n",
    "    result_list.append((created_at,num_comments))\n",
    "#print(result_list)\n",
    "counts_by_hour = {}\n",
    "comments_by_hour = {}\n",
    "for row in result_list:\n",
    "    time = row[0]\n",
    "    time = dt.datetime.strptime(time,'%m/%d/%Y %H:%M')\n",
    "    hour_created = time.strftime('%H')\n",
    "    if hour_created not in counts_by_hour:\n",
    "        counts_by_hour[hour_created] = 1\n",
    "        comments_by_hour[hour_created] = int(row[1])\n",
    "    else:\n",
    "        counts_by_hour[hour_created] += 1\n",
    "        comments_by_hour[hour_created] += int(row[1])\n",
    "print(counts_by_hour)\n",
    "print(comments_by_hour)"
   ]
  },
  {
   "cell_type": "markdown",
   "id": "d09a4213-31f3-4de6-b0fb-d9e28760ce58",
   "metadata": {},
   "source": [
    "## Calculating the Average Number of Comments for Ask HN Posts by Hour"
   ]
  },
  {
   "cell_type": "code",
   "execution_count": 51,
   "id": "e4b40dab-c847-4faa-9436-92b745beb973",
   "metadata": {},
   "outputs": [
    {
     "name": "stdout",
     "output_type": "stream",
     "text": [
      "[('09', 5.5777777777777775), ('13', 14.741176470588234), ('10', 13.440677966101696), ('14', 13.233644859813085), ('16', 16.796296296296298), ('23', 7.985294117647059), ('12', 9.41095890410959), ('17', 11.46), ('15', 38.5948275862069), ('21', 16.009174311926607), ('20', 21.525), ('02', 23.810344827586206), ('18', 13.20183486238532), ('03', 7.796296296296297), ('05', 10.08695652173913), ('19', 10.8), ('01', 11.383333333333333), ('22', 6.746478873239437), ('08', 10.25), ('04', 7.170212765957447), ('00', 8.127272727272727), ('06', 9.022727272727273), ('07', 7.852941176470588), ('11', 11.051724137931034)]\n"
     ]
    }
   ],
   "source": [
    "avg_by_hour = []\n",
    "for key in counts_by_hour:\n",
    "    value = comments_by_hour[key]/counts_by_hour[key]\n",
    "    avg_by_hour.append((key,value))\n",
    "print(avg_by_hour)"
   ]
  },
  {
   "cell_type": "code",
   "execution_count": 67,
   "id": "8ad6c7c4-5726-4ee4-b0ac-616352272593",
   "metadata": {},
   "outputs": [
    {
     "name": "stdout",
     "output_type": "stream",
     "text": [
      "[(5.5777777777777775, '09'), (14.741176470588234, '13'), (13.440677966101696, '10'), (13.233644859813085, '14'), (16.796296296296298, '16'), (7.985294117647059, '23'), (9.41095890410959, '12'), (11.46, '17'), (38.5948275862069, '15'), (16.009174311926607, '21'), (21.525, '20'), (23.810344827586206, '02'), (13.20183486238532, '18'), (7.796296296296297, '03'), (10.08695652173913, '05'), (10.8, '19'), (11.383333333333333, '01'), (6.746478873239437, '22'), (10.25, '08'), (7.170212765957447, '04'), (8.127272727272727, '00'), (9.022727272727273, '06'), (7.852941176470588, '07'), (11.051724137931034, '11')]\n",
      "\n",
      "\n",
      "[(38.5948275862069, '15'), (23.810344827586206, '02'), (21.525, '20'), (16.796296296296298, '16'), (16.009174311926607, '21'), (14.741176470588234, '13'), (13.440677966101696, '10'), (13.233644859813085, '14'), (13.20183486238532, '18'), (11.46, '17'), (11.383333333333333, '01'), (11.051724137931034, '11'), (10.8, '19'), (10.25, '08'), (10.08695652173913, '05'), (9.41095890410959, '12'), (9.022727272727273, '06'), (8.127272727272727, '00'), (7.985294117647059, '23'), (7.852941176470588, '07'), (7.796296296296297, '03'), (7.170212765957447, '04'), (6.746478873239437, '22'), (5.5777777777777775, '09')]\n"
     ]
    }
   ],
   "source": [
    "swap_avg_by_hour = []\n",
    "for row in avg_by_hour:\n",
    "    swap_avg_by_hour.append((row[1],row[0]))\n",
    "print(swap_avg_by_hour)\n",
    "print('\\n')\n",
    "sorted_swap = sorted(swap_avg_by_hour,reverse=True)\n",
    "print(sorted_swap)"
   ]
  },
  {
   "cell_type": "code",
   "execution_count": 81,
   "id": "893789a4-65d0-4c6f-92be-e1bcc6be08ed",
   "metadata": {},
   "outputs": [
    {
     "name": "stdout",
     "output_type": "stream",
     "text": [
      "15:00: 38.59 average comments per post\n",
      "02:00: 23.81 average comments per post\n",
      "20:00: 21.52 average comments per post\n",
      "16:00: 16.80 average comments per post\n",
      "21:00: 16.01 average comments per post\n"
     ]
    }
   ],
   "source": [
    "#15:00: 38.59 average comments per post\n",
    "for row in sorted_swap[:5]:\n",
    "    print(f\"{dt.datetime.strptime(row[1],'%H').strftime('%H:%M')}: {row[0]:.2f} average comments per post\")"
   ]
  },
  {
   "cell_type": "markdown",
   "id": "fdd02716-2150-434f-b219-259f4aeb304f",
   "metadata": {},
   "source": [
    "## In order to have a higher chance of receiving comments, you should create a post at 15:00 EST  - 03:00 GMT+7 (Hanoi)"
   ]
  }
 ],
 "metadata": {
  "kernelspec": {
   "display_name": "Python 3 (ipykernel)",
   "language": "python",
   "name": "python3"
  },
  "language_info": {
   "codemirror_mode": {
    "name": "ipython",
    "version": 3
   },
   "file_extension": ".py",
   "mimetype": "text/x-python",
   "name": "python",
   "nbconvert_exporter": "python",
   "pygments_lexer": "ipython3",
   "version": "3.12.7"
  }
 },
 "nbformat": 4,
 "nbformat_minor": 5
}
