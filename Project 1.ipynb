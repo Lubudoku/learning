{
 "cells": [
  {
   "cell_type": "markdown",
   "id": "017af0d6-eb42-4fe7-961b-c27c218ce56f",
   "metadata": {},
   "source": [
    "# My project:  Profitable App Profiles for the App Store and Google Play Markets"
   ]
  },
  {
   "cell_type": "code",
   "execution_count": 2,
   "id": "0136a706-df1f-43ed-b07c-e6c52ec5c085",
   "metadata": {},
   "outputs": [],
   "source": [
    "file_a = open('Downloads/AppleStore.csv',encoding = 'UTF-8')\n",
    "from csv import reader\n",
    "read_file = reader(file_a)\n",
    "ios = list(read_file)\n",
    "ios_head = ios[0]\n",
    "ios = ios[1:]\n",
    "#print(appstore_data[:4])\n",
    "\n",
    "file_a = open('Downloads/googleplaystore.csv',encoding = 'UTF-8')\n",
    "from csv import reader\n",
    "read_file = reader(file_a)\n",
    "android = list(read_file)\n",
    "android_head = android[0]\n",
    "android = android[1:]\n",
    "#print(appstore_data[:4])"
   ]
  },
  {
   "cell_type": "code",
   "execution_count": 3,
   "id": "0d947942-265c-4d4f-989a-8ec205e7d556",
   "metadata": {},
   "outputs": [],
   "source": [
    "def explore_data(dataset, start, end, rows_and_columns=False):\n",
    "    dataset_slice = dataset[start:end]    \n",
    "    for row in dataset_slice:\n",
    "        print(row)\n",
    "        print('\\n') # adds a new (empty) line after each row\n",
    "\n",
    "    if rows_and_columns:\n",
    "        print('Number of rows:', len(dataset))\n",
    "        print('Number of columns:', len(dataset[0]))"
   ]
  },
  {
   "cell_type": "code",
   "execution_count": 4,
   "id": "c89d2c30-b3b4-4a90-8863-3691203bc9f4",
   "metadata": {},
   "outputs": [
    {
     "name": "stdout",
     "output_type": "stream",
     "text": [
      "['389801252', 'Instagram', '113954816', 'USD', '0.0', '2161558', '1289', '4.5', '4.0', '10.23', '12+', 'Photo & Video', '37', '0', '29', '1']\n",
      "\n",
      "\n",
      "['529479190', 'Clash of Clans', '116476928', 'USD', '0.0', '2130805', '579', '4.5', '4.5', '9.24.12', '9+', 'Games', '38', '5', '18', '1']\n",
      "\n",
      "\n",
      "['420009108', 'Temple Run', '65921024', 'USD', '0.0', '1724546', '3842', '4.5', '4.0', '1.6.2', '9+', 'Games', '40', '5', '1', '1']\n",
      "\n",
      "\n",
      "Number of rows: 7197\n",
      "Number of columns: 16\n"
     ]
    }
   ],
   "source": [
    "explore_data(ios,1,4,rows_and_columns = True)"
   ]
  },
  {
   "cell_type": "code",
   "execution_count": 5,
   "id": "778aed4d-b543-4bde-8288-c55bb0ec9ecd",
   "metadata": {},
   "outputs": [
    {
     "name": "stdout",
     "output_type": "stream",
     "text": [
      "['Coloring book moana', 'ART_AND_DESIGN', '3.9', '967', '14M', '500,000+', 'Free', '0', 'Everyone', 'Art & Design;Pretend Play', 'January 15, 2018', '2.0.0', '4.0.3 and up']\n",
      "\n",
      "\n",
      "['U Launcher Lite – FREE Live Cool Themes, Hide Apps', 'ART_AND_DESIGN', '4.7', '87510', '8.7M', '5,000,000+', 'Free', '0', 'Everyone', 'Art & Design', 'August 1, 2018', '1.2.4', '4.0.3 and up']\n",
      "\n",
      "\n",
      "['Sketch - Draw & Paint', 'ART_AND_DESIGN', '4.5', '215644', '25M', '50,000,000+', 'Free', '0', 'Teen', 'Art & Design', 'June 8, 2018', 'Varies with device', '4.2 and up']\n",
      "\n",
      "\n",
      "Number of rows: 10841\n",
      "Number of columns: 13\n"
     ]
    }
   ],
   "source": [
    "explore_data(android,1,4,rows_and_columns = True)"
   ]
  },
  {
   "cell_type": "markdown",
   "id": "6f70aeb2-2d24-455e-bca0-ddb10513d315",
   "metadata": {},
   "source": [
    "## Header of dataset\n",
    "--https://www.kaggle.com/datasets/ramamet4/app-store-apple-data-set-10k-apps\n",
    "\n",
    "--https://www.kaggle.com/datasets/lava18/google-play-store-apps"
   ]
  },
  {
   "cell_type": "code",
   "execution_count": 7,
   "id": "1f9d0e5f-63e3-43da-811f-033b0f7ded3b",
   "metadata": {},
   "outputs": [
    {
     "name": "stdout",
     "output_type": "stream",
     "text": [
      "['id', 'track_name', 'size_bytes', 'currency', 'price', 'rating_count_tot', 'rating_count_ver', 'user_rating', 'user_rating_ver', 'ver', 'cont_rating', 'prime_genre', 'sup_devices.num', 'ipadSc_urls.num', 'lang.num', 'vpp_lic']\n",
      "\n",
      "\n",
      "['App', 'Category', 'Rating', 'Reviews', 'Size', 'Installs', 'Type', 'Price', 'Content Rating', 'Genres', 'Last Updated', 'Current Ver', 'Android Ver']\n"
     ]
    }
   ],
   "source": [
    "print(ios_head) \n",
    "print('\\n')\n",
    "print(android_head)"
   ]
  },
  {
   "cell_type": "markdown",
   "id": "05497774-34df-4a5d-a4ca-95a6925884fd",
   "metadata": {},
   "source": [
    "## Check for number of columns in each row"
   ]
  },
  {
   "cell_type": "code",
   "execution_count": 9,
   "id": "ca7f4bb6-bbe1-46a4-8c88-a3154d71e3c7",
   "metadata": {},
   "outputs": [
    {
     "name": "stdout",
     "output_type": "stream",
     "text": [
      "[10472]\n"
     ]
    }
   ],
   "source": [
    "check_column = []\n",
    "for row in android:\n",
    "    if len(row) != len(android_head):\n",
    "        i = android.index(row)\n",
    "        check_column.append(i)\n",
    "print(check_column)"
   ]
  },
  {
   "cell_type": "code",
   "execution_count": 10,
   "id": "f405fb5b-9054-4ca4-b1db-ed20faf6e6ca",
   "metadata": {},
   "outputs": [
    {
     "name": "stdout",
     "output_type": "stream",
     "text": [
      "10840\n"
     ]
    }
   ],
   "source": [
    "del android[10472]\n",
    "print(len(android))"
   ]
  },
  {
   "cell_type": "markdown",
   "id": "91e97485-8957-47bb-9cc8-4ca30c8f3566",
   "metadata": {},
   "source": [
    "## Remove duplicate rows"
   ]
  },
  {
   "cell_type": "code",
   "execution_count": 12,
   "id": "fd23dd0f-8b68-4e15-997a-ffa690a1016d",
   "metadata": {},
   "outputs": [],
   "source": [
    "def sel_dup(dataset,index,dup = True):\n",
    "    distinct_val = {}\n",
    "    for row in dataset:\n",
    "        a = row[index]\n",
    "        if a in distinct_val:\n",
    "            distinct_val[a] += distinct_val[a]\n",
    "        else:\n",
    "            distinct_val[a] = 1\n",
    "    dup_val = []\n",
    "    for b in distinct_val:\n",
    "        if distinct_val[b] > 1:\n",
    "            dup_val.append(b)\n",
    "    if dup:\n",
    "        return dup_val\n",
    "    else:\n",
    "        return len(distinct_val)\n",
    "        #return len(distinct_val), dup_val"
   ]
  },
  {
   "cell_type": "code",
   "execution_count": 13,
   "id": "4a459591-5279-4a4b-b1d9-cc9d1b94061e",
   "metadata": {},
   "outputs": [
    {
     "name": "stdout",
     "output_type": "stream",
     "text": [
      "no of distinct value: 7195\n",
      "no of duplicate value: 2\n",
      "['Mannequin Challenge', 'VR Roller Coaster']\n"
     ]
    }
   ],
   "source": [
    "ios_dup = sel_dup(ios,1)\n",
    "print('no of distinct value: ' + str(sel_dup(ios,1,dup = False)))\n",
    "print('no of duplicate value: ' + str(len(ios_dup)))\n",
    "print(ios_dup)"
   ]
  },
  {
   "cell_type": "code",
   "execution_count": 14,
   "id": "0f383420-206d-4714-adc4-3b4021524254",
   "metadata": {},
   "outputs": [
    {
     "name": "stdout",
     "output_type": "stream",
     "text": [
      "no of distinct value: 9659\n",
      "no of duplicate value: 798\n",
      "['Coloring book moana', 'Mcqueen Coloring pages', 'UNICORN - Color By Number & Pixel Art Coloring', 'Textgram - write on photos']\n"
     ]
    }
   ],
   "source": [
    "android_dup = sel_dup(android,0)\n",
    "print('no of distinct value: ' + str(sel_dup(android,0,dup = False)))\n",
    "print('no of duplicate value: ' + str(len(android_dup)))\n",
    "print(android_dup[:4])"
   ]
  },
  {
   "cell_type": "code",
   "execution_count": 15,
   "id": "f2e807b4-009b-434a-a400-cf1947403610",
   "metadata": {},
   "outputs": [
    {
     "name": "stdout",
     "output_type": "stream",
     "text": [
      "['id', 'track_name', 'size_bytes', 'currency', 'price', 'rating_count_tot', 'rating_count_ver', 'user_rating', 'user_rating_ver', 'ver', 'cont_rating', 'prime_genre', 'sup_devices.num', 'ipadSc_urls.num', 'lang.num', 'vpp_lic']\n",
      "['1173990889', 'Mannequin Challenge', '109705216', 'USD', '0.0', '668', '87', '3.0', '3.0', '1.4', '9+', 'Games', '37', '4', '1', '1']\n",
      "['952877179', 'VR Roller Coaster', '169523200', 'USD', '0.0', '107', '102', '3.5', '3.5', '2.0.0', '4+', 'Games', '37', '5', '1', '1']\n",
      "['1178454060', 'Mannequin Challenge', '59572224', 'USD', '0.0', '105', '58', '4.0', '4.5', '1.0.1', '4+', 'Games', '38', '5', '1', '1']\n",
      "['1089824278', 'VR Roller Coaster', '240964608', 'USD', '0.0', '67', '44', '3.5', '4.0', '0.81', '4+', 'Games', '38', '0', '1', '1']\n"
     ]
    }
   ],
   "source": [
    "#examine duplicate data\n",
    "print(ios_head)\n",
    "for row in ios:\n",
    "    app_name = row[1]\n",
    "    if app_name in ios_dup:\n",
    "        print(row)\n",
    "#result show 4 entries of 2 apps but difference size and content rating --> should be keep?"
   ]
  },
  {
   "cell_type": "code",
   "execution_count": 16,
   "id": "e0d3d13c-4602-4720-9b21-1bc19c434cb5",
   "metadata": {},
   "outputs": [
    {
     "name": "stdout",
     "output_type": "stream",
     "text": [
      "['App', 'Category', 'Rating', 'Reviews', 'Size', 'Installs', 'Type', 'Price', 'Content Rating', 'Genres', 'Last Updated', 'Current Ver', 'Android Ver']\n",
      "['Ebook Reader', 'BOOKS_AND_REFERENCE', '4.1', '85842', '37M', '5,000,000+', 'Free', '0', 'Everyone', 'Books & Reference', 'June 25, 2018', '5.0.6', '4.0 and up']\n",
      "['Ebook Reader', 'BOOKS_AND_REFERENCE', '4.1', '85842', '37M', '5,000,000+', 'Free', '0', 'Everyone', 'Books & Reference', 'June 25, 2018', '5.0.6', '4.0 and up']\n"
     ]
    }
   ],
   "source": [
    "#examine duplicate data\n",
    "print(android_head)\n",
    "for row in android:\n",
    "    app_name = row[0]\n",
    "    if app_name == 'Ebook Reader':\n",
    "        print(row)"
   ]
  },
  {
   "cell_type": "code",
   "execution_count": 17,
   "id": "ce77fc03-94dd-4c17-9307-aff64791eb05",
   "metadata": {},
   "outputs": [
    {
     "name": "stdout",
     "output_type": "stream",
     "text": [
      "974.0\n",
      "798\n"
     ]
    }
   ],
   "source": [
    "max_review = {}\n",
    "for row in android:\n",
    "    app_name = row[0]\n",
    "    if app_name in android_dup:\n",
    "        no_review = float(row[3])\n",
    "        if app_name not in max_review:\n",
    "            max_review[app_name] = no_review\n",
    "        else:\n",
    "            if no_review > max_review[app_name]:\n",
    "                max_review[app_name] = no_review\n",
    "print(max_review['Coloring book moana'])  \n",
    "print(len(max_review))"
   ]
  },
  {
   "cell_type": "code",
   "execution_count": 18,
   "id": "6b188439-f859-4bc4-972a-ec7e4a919be1",
   "metadata": {},
   "outputs": [
    {
     "name": "stdout",
     "output_type": "stream",
     "text": [
      "9659\n"
     ]
    }
   ],
   "source": [
    "android_cleaned = []\n",
    "already_added = []\n",
    "for row in android:\n",
    "    app_name = row[0]\n",
    "    if app_name in max_review:\n",
    "        no_review = float(row[3])\n",
    "        if no_review == max_review[app_name] and app_name not in already_added:\n",
    "            android_cleaned.append(row)\n",
    "            already_added.append(app_name)\n",
    "    else:\n",
    "        android_cleaned.append(row)\n",
    "print(len(android_cleaned))"
   ]
  },
  {
   "cell_type": "code",
   "execution_count": 21,
   "id": "ecc4e629-776d-46eb-a6b3-809bc77fdbb5",
   "metadata": {},
   "outputs": [
    {
     "name": "stdout",
     "output_type": "stream",
     "text": [
      "[]\n"
     ]
    }
   ],
   "source": [
    "android_dup_1 = sel_dup(android_cleaned,0)\n",
    "print(android_dup_1)"
   ]
  },
  {
   "cell_type": "markdown",
   "id": "d623b793-feb8-49d3-bbc5-9c0506d0b1fd",
   "metadata": {},
   "source": [
    "## Remove non-english apps"
   ]
  },
  {
   "cell_type": "code",
   "execution_count": 23,
   "id": "a8f3c844-ba9c-40ac-a5e6-831027bcf8e5",
   "metadata": {},
   "outputs": [],
   "source": [
    "def is_english(string):\n",
    "    non_ascii = 0\n",
    "    \n",
    "    for character in string:\n",
    "        if ord(character) > 127:\n",
    "            non_ascii += 1\n",
    "    \n",
    "    if non_ascii > 3:\n",
    "        return False\n",
    "    else:\n",
    "        return True"
   ]
  },
  {
   "cell_type": "code",
   "execution_count": 24,
   "id": "9d69749a-ec8f-4108-83a6-00893cce3919",
   "metadata": {},
   "outputs": [
    {
     "name": "stdout",
     "output_type": "stream",
     "text": [
      "9614\n"
     ]
    }
   ],
   "source": [
    "android_english = []\n",
    "already_added_1 = []\n",
    "for row in android_cleaned:\n",
    "    app_name = row[0]\n",
    "    if is_english(app_name):\n",
    "        android_english.append(row)\n",
    "        already_added_1.append(app_name)\n",
    "    \n",
    "print(len(android_english))"
   ]
  },
  {
   "cell_type": "code",
   "execution_count": 25,
   "id": "4f3bfad2-88c9-4e3d-bdd4-4037c3ae2cc8",
   "metadata": {},
   "outputs": [
    {
     "name": "stdout",
     "output_type": "stream",
     "text": [
      "6183\n"
     ]
    }
   ],
   "source": [
    "ios_english = []\n",
    "already_added_2 = []\n",
    "for row in ios:\n",
    "    app_name = row[1]\n",
    "    if is_english(app_name):\n",
    "        ios_english.append(row)\n",
    "        already_added_2.append(app_name)\n",
    "            \n",
    "print(len(ios_english))"
   ]
  },
  {
   "cell_type": "markdown",
   "id": "00797d53-d440-46ec-8da9-88c08cf83088",
   "metadata": {},
   "source": [
    "## Remove not free apps"
   ]
  },
  {
   "cell_type": "code",
   "execution_count": 27,
   "id": "2fbc96e8-f3d6-4e8d-8b44-6c2427180c42",
   "metadata": {},
   "outputs": [
    {
     "name": "stdout",
     "output_type": "stream",
     "text": [
      "3222\n"
     ]
    }
   ],
   "source": [
    "ios_free = [row for row in ios_english if float(row[4]) == 0]\n",
    "   \n",
    "print(len(ios_free))"
   ]
  },
  {
   "cell_type": "code",
   "execution_count": 28,
   "id": "a5a0b8a8-75f9-4fae-8bfb-247626b14f2d",
   "metadata": {},
   "outputs": [
    {
     "name": "stdout",
     "output_type": "stream",
     "text": [
      "10039\n"
     ]
    }
   ],
   "source": [
    "android_free = [row for row in android if row[6] == \"Free\"]\n",
    "print(len(android_free))"
   ]
  },
  {
   "cell_type": "markdown",
   "id": "5b279764-769c-4f0a-ab0a-3f3f584bab8d",
   "metadata": {},
   "source": [
    "## Most common apps by Genre"
   ]
  },
  {
   "cell_type": "code",
   "execution_count": 30,
   "id": "14e0792a-b765-4673-b190-f1debc0636df",
   "metadata": {},
   "outputs": [],
   "source": [
    "def freq_table(dataset, index):\n",
    "    freq_dict = {}\n",
    "    for row in dataset:\n",
    "        key = row[index]\n",
    "        if key in freq_dict:\n",
    "            freq_dict[key] += 1\n",
    "        else:\n",
    "            freq_dict[key] = 1\n",
    "    for key in freq_dict:\n",
    "        freq_dict[key] = freq_dict[key]/len(dataset)*100\n",
    "    return(freq_dict)           "
   ]
  },
  {
   "cell_type": "code",
   "execution_count": 31,
   "id": "1b102563-d61e-4394-906c-022b712b45d0",
   "metadata": {},
   "outputs": [],
   "source": [
    "def display_table(dataset, index):\n",
    "    table = freq_table(dataset, index)\n",
    "    table_display = []\n",
    "    for key in table:\n",
    "        key_val_as_tuple = (table[key], key)\n",
    "        table_display.append(key_val_as_tuple)\n",
    "\n",
    "    table_sorted = sorted(table_display, reverse = True)\n",
    "    for entry in table_sorted:\n",
    "        print(entry[1], ':', entry[0])"
   ]
  },
  {
   "cell_type": "code",
   "execution_count": 32,
   "id": "1fab26f4-cf9e-4243-a6b4-1d57f3f28570",
   "metadata": {},
   "outputs": [
    {
     "name": "stdout",
     "output_type": "stream",
     "text": [
      "Tools : 7.610319752963443\n",
      "Entertainment : 6.01653551150513\n",
      "Education : 5.169837633230402\n",
      "Business : 4.442673573065046\n",
      "Productivity : 3.9446159976093234\n",
      "Sports : 3.725470664408806\n",
      "Lifestyle : 3.6059368462994326\n",
      "Communication : 3.586014543281203\n",
      "Medical : 3.5262476342265168\n",
      "Finance : 3.476441876680944\n",
      "Action : 3.3967526646080284\n",
      "Health & Fitness : 3.2373742404621972\n",
      "Photography : 3.117840422352824\n",
      "Personalization : 3.077995816316366\n",
      "Social : 2.9086562406614203\n",
      "News & Magazines : 2.7990835740611617\n",
      "Shopping : 2.569977089351529\n",
      "Travel & Local : 2.440482119733041\n",
      "Dating : 2.261181392568981\n",
      "Books & Reference : 2.022113756350234\n",
      "Arcade : 1.9922303018228906\n",
      "Simulation : 1.9025799382408608\n",
      "Casual : 1.8328518776770595\n",
      "Video Players & Editors : 1.6834346050403428\n",
      "Maps & Navigation : 1.314871999203108\n",
      "Food & Drink : 1.2451439386393066\n",
      "Puzzle : 1.205299332602849\n",
      "Racing : 0.946309393365873\n",
      "Strategy : 0.9263870903476442\n",
      "House & Home : 0.876581332802072\n",
      "Role Playing : 0.8666201812929575\n",
      "Libraries & Demo : 0.8367367267656141\n",
      "Auto & Vehicles : 0.8168144237473852\n",
      "Weather : 0.7371252116744695\n",
      "Events : 0.6275525450742105\n",
      "Adventure : 0.6275525450742105\n",
      "Comics : 0.5877079390377528\n",
      "Art & Design : 0.547863333001295\n",
      "Beauty : 0.527941029983066\n",
      "Parenting : 0.438290666401036\n",
      "Education;Education : 0.438290666401036\n",
      "Card : 0.4084072118736926\n",
      "Trivia : 0.37852375734634924\n",
      "Educational;Education : 0.37852375734634924\n",
      "Casino : 0.37852375734634924\n",
      "Board : 0.3486403028190059\n",
      "Educational : 0.328717999800777\n",
      "Word : 0.28887339376431914\n",
      "Entertainment;Music & Video : 0.26895109074609025\n",
      "Casual;Pretend Play : 0.24902878772786133\n",
      "Music : 0.20918418169140351\n",
      "Casual;Action & Adventure : 0.19922303018228907\n",
      "Racing;Action & Adventure : 0.18926187867317462\n",
      "Puzzle;Brain Games : 0.1693395756549457\n",
      "Educational;Pretend Play : 0.13945612112760236\n",
      "Action;Action & Adventure : 0.13945612112760236\n",
      "Casual;Brain Games : 0.1294949696184879\n",
      "Arcade;Action & Adventure : 0.11953381810937344\n",
      "Simulation;Action & Adventure : 0.109572666600259\n",
      "Adventure;Action & Adventure : 0.109572666600259\n",
      "Entertainment;Brain Games : 0.07968921207291563\n",
      "Education;Pretend Play : 0.07968921207291563\n",
      "Board;Brain Games : 0.07968921207291563\n",
      "Parenting;Education : 0.06972806056380118\n",
      "Casual;Creativity : 0.06972806056380118\n",
      "Art & Design;Creativity : 0.06972806056380118\n",
      "Role Playing;Action & Adventure : 0.05976690905468672\n",
      "Parenting;Music & Video : 0.05976690905468672\n",
      "Educational;Brain Games : 0.05976690905468672\n",
      "Role Playing;Pretend Play : 0.04980575754557227\n",
      "Puzzle;Action & Adventure : 0.04980575754557227\n",
      "Education;Music & Video : 0.04980575754557227\n",
      "Education;Creativity : 0.04980575754557227\n",
      "Educational;Action & Adventure : 0.039844606036457814\n",
      "Education;Brain Games : 0.039844606036457814\n",
      "Education;Action & Adventure : 0.039844606036457814\n",
      "Video Players & Editors;Music & Video : 0.02988345452734336\n",
      "Simulation;Pretend Play : 0.02988345452734336\n",
      "Entertainment;Creativity : 0.02988345452734336\n",
      "Entertainment;Action & Adventure : 0.02988345452734336\n",
      "Educational;Creativity : 0.02988345452734336\n",
      "Video Players & Editors;Creativity : 0.019922303018228907\n",
      "Sports;Action & Adventure : 0.019922303018228907\n",
      "Puzzle;Creativity : 0.019922303018228907\n",
      "Music;Music & Video : 0.019922303018228907\n",
      "Entertainment;Pretend Play : 0.019922303018228907\n",
      "Casual;Music & Video : 0.019922303018228907\n",
      "Casual;Education : 0.019922303018228907\n",
      "Board;Action & Adventure : 0.019922303018228907\n",
      "Art & Design;Pretend Play : 0.019922303018228907\n",
      "Art & Design;Action & Adventure : 0.019922303018228907\n",
      "Adventure;Education : 0.019922303018228907\n",
      "Trivia;Education : 0.009961151509114453\n",
      "Travel & Local;Action & Adventure : 0.009961151509114453\n",
      "Tools;Education : 0.009961151509114453\n",
      "Strategy;Education : 0.009961151509114453\n",
      "Strategy;Creativity : 0.009961151509114453\n",
      "Strategy;Action & Adventure : 0.009961151509114453\n",
      "Simulation;Education : 0.009961151509114453\n",
      "Role Playing;Brain Games : 0.009961151509114453\n",
      "Racing;Pretend Play : 0.009961151509114453\n",
      "Puzzle;Education : 0.009961151509114453\n",
      "Parenting;Brain Games : 0.009961151509114453\n",
      "Music & Audio;Music & Video : 0.009961151509114453\n",
      "Lifestyle;Pretend Play : 0.009961151509114453\n",
      "Lifestyle;Education : 0.009961151509114453\n",
      "Health & Fitness;Education : 0.009961151509114453\n",
      "Health & Fitness;Action & Adventure : 0.009961151509114453\n",
      "Entertainment;Education : 0.009961151509114453\n",
      "Communication;Creativity : 0.009961151509114453\n",
      "Comics;Creativity : 0.009961151509114453\n",
      "Card;Brain Games : 0.009961151509114453\n",
      "Card;Action & Adventure : 0.009961151509114453\n",
      "Books & Reference;Education : 0.009961151509114453\n",
      "Arcade;Pretend Play : 0.009961151509114453\n"
     ]
    }
   ],
   "source": [
    "#Genre\n",
    "display_table(android_free,9)"
   ]
  },
  {
   "cell_type": "code",
   "execution_count": 33,
   "id": "a90a1668-70fa-444d-ad97-a3fb66bb515e",
   "metadata": {},
   "outputs": [
    {
     "name": "stdout",
     "output_type": "stream",
     "text": [
      "FAMILY : 17.730849686223728\n",
      "GAME : 10.568781751170436\n",
      "TOOLS : 7.620280904472557\n",
      "BUSINESS : 4.442673573065046\n",
      "PRODUCTIVITY : 3.9446159976093234\n",
      "LIFESTYLE : 3.615897997808547\n",
      "SPORTS : 3.586014543281203\n",
      "COMMUNICATION : 3.586014543281203\n",
      "MEDICAL : 3.5262476342265168\n",
      "FINANCE : 3.476441876680944\n",
      "HEALTH_AND_FITNESS : 3.2373742404621972\n",
      "PHOTOGRAPHY : 3.117840422352824\n",
      "PERSONALIZATION : 3.077995816316366\n",
      "SOCIAL : 2.9086562406614203\n",
      "NEWS_AND_MAGAZINES : 2.7990835740611617\n",
      "SHOPPING : 2.569977089351529\n",
      "TRAVEL_AND_LOCAL : 2.4504432712421553\n",
      "DATING : 2.261181392568981\n",
      "BOOKS_AND_REFERENCE : 2.022113756350234\n",
      "VIDEO_PLAYERS : 1.7033569080585718\n",
      "EDUCATION : 1.514095029385397\n",
      "ENTERTAINMENT : 1.4642892718398246\n",
      "MAPS_AND_NAVIGATION : 1.314871999203108\n",
      "FOOD_AND_DRINK : 1.2451439386393066\n",
      "HOUSE_AND_HOME : 0.876581332802072\n",
      "LIBRARIES_AND_DEMO : 0.8367367267656141\n",
      "AUTO_AND_VEHICLES : 0.8168144237473852\n",
      "WEATHER : 0.7371252116744695\n",
      "EVENTS : 0.6275525450742105\n",
      "ART_AND_DESIGN : 0.6175913935650961\n",
      "COMICS : 0.5976690905468672\n",
      "PARENTING : 0.5777467875286383\n",
      "BEAUTY : 0.527941029983066\n"
     ]
    }
   ],
   "source": [
    "#Category\n",
    "display_table(android_free,1)"
   ]
  },
  {
   "cell_type": "code",
   "execution_count": 34,
   "id": "cdaabbdc-d7c8-477b-a4f3-d3df09c0c4bd",
   "metadata": {},
   "outputs": [
    {
     "name": "stdout",
     "output_type": "stream",
     "text": [
      "Games : 58.16263190564867\n",
      "Entertainment : 7.883302296710118\n",
      "Photo & Video : 4.9658597144630665\n",
      "Education : 3.662321539416512\n",
      "Social Networking : 3.2898820608317814\n",
      "Shopping : 2.60707635009311\n",
      "Utilities : 2.5139664804469275\n",
      "Sports : 2.1415270018621975\n",
      "Music : 2.0484171322160147\n",
      "Health & Fitness : 2.0173805090006205\n",
      "Productivity : 1.7380509000620732\n",
      "Lifestyle : 1.5828677839851024\n",
      "News : 1.3345747982619491\n",
      "Travel : 1.2414649286157666\n",
      "Finance : 1.1173184357541899\n",
      "Weather : 0.8690254500310366\n",
      "Food & Drink : 0.8069522036002483\n",
      "Reference : 0.5586592178770949\n",
      "Business : 0.5276225946617008\n",
      "Book : 0.4345127250155183\n",
      "Navigation : 0.186219739292365\n",
      "Medical : 0.186219739292365\n",
      "Catalogs : 0.12414649286157665\n"
     ]
    }
   ],
   "source": [
    "#Prime_genre\n",
    "display_table(ios_free,11)"
   ]
  },
  {
   "cell_type": "markdown",
   "id": "3b38641b-b98a-441f-a966-18c38136eb2b",
   "metadata": {},
   "source": [
    "## Most popular apps by Genre - ios"
   ]
  },
  {
   "cell_type": "code",
   "execution_count": 36,
   "id": "5fd44f43-f226-419c-82ee-b4869afc16fc",
   "metadata": {},
   "outputs": [
    {
     "name": "stdout",
     "output_type": "stream",
     "text": [
      "{'Social Networking': 3.2898820608317814, 'Photo & Video': 4.9658597144630665, 'Games': 58.16263190564867, 'Music': 2.0484171322160147, 'Reference': 0.5586592178770949, 'Health & Fitness': 2.0173805090006205, 'Weather': 0.8690254500310366, 'Utilities': 2.5139664804469275, 'Travel': 1.2414649286157666, 'Shopping': 2.60707635009311, 'News': 1.3345747982619491, 'Navigation': 0.186219739292365, 'Lifestyle': 1.5828677839851024, 'Entertainment': 7.883302296710118, 'Food & Drink': 0.8069522036002483, 'Sports': 2.1415270018621975, 'Book': 0.4345127250155183, 'Finance': 1.1173184357541899, 'Education': 3.662321539416512, 'Productivity': 1.7380509000620732, 'Business': 0.5276225946617008, 'Catalogs': 0.12414649286157665, 'Medical': 0.186219739292365}\n"
     ]
    }
   ],
   "source": [
    "genre_dict = freq_table(ios_free,11)\n",
    "print(genre_dict)"
   ]
  },
  {
   "cell_type": "code",
   "execution_count": 37,
   "id": "fea4b7b9-6759-4a5a-a964-4abbc4f8f924",
   "metadata": {
    "scrolled": true
   },
   "outputs": [
    {
     "name": "stdout",
     "output_type": "stream",
     "text": [
      "Navigation : 86090.33333333333\n",
      "Reference : 74942.11111111111\n",
      "Social Networking : 71548.34905660378\n",
      "Music : 57326.530303030304\n",
      "Weather : 52279.892857142855\n",
      "Book : 39758.5\n",
      "Food & Drink : 33333.92307692308\n",
      "Finance : 31467.944444444445\n",
      "Photo & Video : 28441.54375\n",
      "Travel : 28243.8\n",
      "Shopping : 26919.690476190477\n",
      "Health & Fitness : 23298.015384615384\n",
      "Sports : 23008.898550724636\n",
      "Games : 22788.6696905016\n",
      "News : 21248.023255813954\n",
      "Productivity : 21028.410714285714\n",
      "Utilities : 18684.456790123455\n",
      "Lifestyle : 16485.764705882353\n",
      "Entertainment : 14029.830708661417\n",
      "Business : 7491.117647058823\n",
      "Education : 7003.983050847458\n",
      "Catalogs : 4004.0\n",
      "Medical : 612.0\n"
     ]
    }
   ],
   "source": [
    "for genre in genre_dict:\n",
    "    total = 0\n",
    "    len_genre = 0\n",
    "    for row in ios_free:\n",
    "        if row[11] == genre:\n",
    "            total += float(row[5])\n",
    "            len_genre += 1\n",
    "    average = total / len_genre\n",
    "    genre_dict[genre] = average\n",
    "table_display = []\n",
    "for key in genre_dict:\n",
    "    key_val_as_tuple = (genre_dict[key], key)\n",
    "    table_display.append(key_val_as_tuple)\n",
    "\n",
    "table_sorted = sorted(table_display, reverse = True)\n",
    "for entry in table_sorted:\n",
    "    print(entry[1], ':', entry[0])"
   ]
  },
  {
   "cell_type": "markdown",
   "id": "8973cbb0-bb9d-4273-a566-9993f357f409",
   "metadata": {},
   "source": [
    "## Most popular apps by Genre - Android"
   ]
  },
  {
   "cell_type": "code",
   "execution_count": 39,
   "id": "d4d82b2e-3f79-4eed-afe9-6a30d28df0c9",
   "metadata": {},
   "outputs": [
    {
     "name": "stdout",
     "output_type": "stream",
     "text": [
      "1,000,000+ : 15.489590596672976\n",
      "10,000,000+ : 12.441478234883952\n",
      "100,000+ : 10.748082478334496\n",
      "10,000+ : 9.214065145930869\n",
      "1,000+ : 7.550552843908756\n",
      "5,000,000+ : 7.490785934854069\n",
      "100+ : 6.205797390178304\n",
      "500,000+ : 5.2495268453033175\n",
      "50,000+ : 4.343062057973902\n",
      "5,000+ : 4.084072118736926\n",
      "100,000,000+ : 4.074110967227811\n",
      "10+ : 3.147723876880167\n",
      "500+ : 2.8887339376431913\n",
      "50,000,000+ : 2.878772786134077\n",
      "50+ : 1.7033569080585718\n",
      "500,000,000+ : 0.7172029086562406\n",
      "5+ : 0.6972806056380118\n",
      "1,000,000,000+ : 0.5777467875286383\n",
      "1+ : 0.45821296941926487\n",
      "0+ : 0.039844606036457814\n"
     ]
    }
   ],
   "source": [
    "display_table(android_free,5)"
   ]
  },
  {
   "cell_type": "code",
   "execution_count": 40,
   "id": "9a8377d0-a305-4087-ab23-b51c432a52a8",
   "metadata": {},
   "outputs": [
    {
     "name": "stdout",
     "output_type": "stream",
     "text": [
      "{'ART_AND_DESIGN': 0.6175913935650961, 'AUTO_AND_VEHICLES': 0.8168144237473852, 'BEAUTY': 0.527941029983066, 'BOOKS_AND_REFERENCE': 2.022113756350234, 'BUSINESS': 4.442673573065046, 'COMICS': 0.5976690905468672, 'COMMUNICATION': 3.586014543281203, 'DATING': 2.261181392568981, 'EDUCATION': 1.514095029385397, 'ENTERTAINMENT': 1.4642892718398246, 'EVENTS': 0.6275525450742105, 'FINANCE': 3.476441876680944, 'FOOD_AND_DRINK': 1.2451439386393066, 'HEALTH_AND_FITNESS': 3.2373742404621972, 'HOUSE_AND_HOME': 0.876581332802072, 'LIBRARIES_AND_DEMO': 0.8367367267656141, 'LIFESTYLE': 3.615897997808547, 'GAME': 10.568781751170436, 'FAMILY': 17.730849686223728, 'MEDICAL': 3.5262476342265168, 'SOCIAL': 2.9086562406614203, 'SHOPPING': 2.569977089351529, 'PHOTOGRAPHY': 3.117840422352824, 'SPORTS': 3.586014543281203, 'TRAVEL_AND_LOCAL': 2.4504432712421553, 'TOOLS': 7.620280904472557, 'PERSONALIZATION': 3.077995816316366, 'PRODUCTIVITY': 3.9446159976093234, 'PARENTING': 0.5777467875286383, 'WEATHER': 0.7371252116744695, 'VIDEO_PLAYERS': 1.7033569080585718, 'NEWS_AND_MAGAZINES': 2.7990835740611617, 'MAPS_AND_NAVIGATION': 1.314871999203108}\n"
     ]
    }
   ],
   "source": [
    "category_dict = freq_table(android_free,1)\n",
    "print(category_dict)"
   ]
  },
  {
   "cell_type": "code",
   "execution_count": 41,
   "id": "7788a9b8-7c70-4d45-8ac8-9881d9a57d1c",
   "metadata": {},
   "outputs": [
    {
     "name": "stdout",
     "output_type": "stream",
     "text": [
      "COMMUNICATION : 90683100.55833334\n",
      "SOCIAL : 48184458.56849315\n",
      "VIDEO_PLAYERS : 36385565.614035085\n",
      "PRODUCTIVITY : 35794644.73232323\n",
      "GAME : 33048939.16116871\n",
      "PHOTOGRAPHY : 32218111.54952077\n",
      "TRAVEL_AND_LOCAL : 27921561.32520325\n",
      "NEWS_AND_MAGAZINES : 26677267.829181496\n",
      "ENTERTAINMENT : 19516734.69387755\n",
      "TOOLS : 14968685.586928105\n",
      "SHOPPING : 12588522.03488372\n",
      "BOOKS_AND_REFERENCE : 9465252.512315271\n",
      "PERSONALIZATION : 7508854.330097088\n",
      "WEATHER : 5747142.162162162\n",
      "FAMILY : 5745500.95\n",
      "EDUCATION : 5729276.315789473\n",
      "MAPS_AND_NAVIGATION : 5486066.590909091\n",
      "HEALTH_AND_FITNESS : 4869225.852307692\n",
      "SPORTS : 4860918.563888889\n",
      "FINANCE : 2511355.6790830945\n",
      "BUSINESS : 2245520.3811659194\n",
      "FOOD_AND_DRINK : 2190710.008\n",
      "ART_AND_DESIGN : 2005195.1612903227\n",
      "HOUSE_AND_HOME : 1917187.0568181819\n",
      "LIFESTYLE : 1477863.44077135\n",
      "DATING : 1164270.7356828193\n",
      "COMICS : 934769.1666666666\n",
      "LIBRARIES_AND_DEMO : 749950.119047619\n",
      "AUTO_AND_VEHICLES : 647317.8170731707\n",
      "PARENTING : 542603.6206896552\n",
      "BEAUTY : 513151.88679245283\n",
      "EVENTS : 253542.22222222222\n",
      "MEDICAL : 147563.28813559323\n"
     ]
    }
   ],
   "source": [
    "for category in category_dict:\n",
    "    total = 0\n",
    "    len_category = 0\n",
    "    for row in android_free:\n",
    "        if row[1] == category:\n",
    "            row[5] = row[5].replace('+','')\n",
    "            row[5] = row[5].replace(',','')\n",
    "            total += float(row[5])\n",
    "            len_category += 1\n",
    "    average = total / len_category\n",
    "    category_dict[category] = average\n",
    "table_display = []\n",
    "for key in category_dict:\n",
    "    key_val_as_tuple = (category_dict[key], key)\n",
    "    table_display.append(key_val_as_tuple)\n",
    "\n",
    "table_sorted = sorted(table_display, reverse = True)\n",
    "for entry in table_sorted:\n",
    "    print(entry[1], ':', entry[0])   "
   ]
  }
 ],
 "metadata": {
  "kernelspec": {
   "display_name": "Python 3 (ipykernel)",
   "language": "python",
   "name": "python3"
  },
  "language_info": {
   "codemirror_mode": {
    "name": "ipython",
    "version": 3
   },
   "file_extension": ".py",
   "mimetype": "text/x-python",
   "name": "python",
   "nbconvert_exporter": "python",
   "pygments_lexer": "ipython3",
   "version": "3.12.7"
  }
 },
 "nbformat": 4,
 "nbformat_minor": 5
}
