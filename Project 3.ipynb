{
 "cells": [
  {
   "cell_type": "markdown",
   "id": "2a8b00c4-2d81-4518-8eac-504b9a09089f",
   "metadata": {},
   "source": [
    "# Project 3:  Exploring eBay Car Sales Data"
   ]
  },
  {
   "cell_type": "code",
   "execution_count": 2,
   "id": "d4a7a936-1c3f-4918-b34b-d1be7cbf80c5",
   "metadata": {},
   "outputs": [],
   "source": [
    "import numpy as np\n",
    "import pandas as pd\n",
    "import datetime as dt"
   ]
  },
  {
   "cell_type": "code",
   "execution_count": 3,
   "id": "d85bb8e2-ea77-43fc-ba7e-2524f9b7270f",
   "metadata": {},
   "outputs": [],
   "source": [
    "autos = pd.read_csv('Downloads/autos.csv', encoding = 'latin1')"
   ]
  },
  {
   "cell_type": "code",
   "execution_count": 4,
   "id": "4ef4afa5-c29b-4fec-a28f-93f432ce77b0",
   "metadata": {},
   "outputs": [
    {
     "name": "stdout",
     "output_type": "stream",
     "text": [
      "<class 'pandas.core.frame.DataFrame'>\n",
      "RangeIndex: 50000 entries, 0 to 49999\n",
      "Data columns (total 20 columns):\n",
      " #   Column               Non-Null Count  Dtype \n",
      "---  ------               --------------  ----- \n",
      " 0   dateCrawled          50000 non-null  object\n",
      " 1   name                 50000 non-null  object\n",
      " 2   seller               50000 non-null  object\n",
      " 3   offerType            50000 non-null  object\n",
      " 4   price                50000 non-null  object\n",
      " 5   abtest               50000 non-null  object\n",
      " 6   vehicleType          44905 non-null  object\n",
      " 7   yearOfRegistration   50000 non-null  int64 \n",
      " 8   gearbox              47320 non-null  object\n",
      " 9   powerPS              50000 non-null  int64 \n",
      " 10  model                47242 non-null  object\n",
      " 11  odometer             50000 non-null  object\n",
      " 12  monthOfRegistration  50000 non-null  int64 \n",
      " 13  fuelType             45518 non-null  object\n",
      " 14  brand                50000 non-null  object\n",
      " 15  notRepairedDamage    40171 non-null  object\n",
      " 16  dateCreated          50000 non-null  object\n",
      " 17  nrOfPictures         50000 non-null  int64 \n",
      " 18  postalCode           50000 non-null  int64 \n",
      " 19  lastSeen             50000 non-null  object\n",
      "dtypes: int64(5), object(15)\n",
      "memory usage: 7.6+ MB\n"
     ]
    },
    {
     "data": {
      "text/html": [
       "<div>\n",
       "<style scoped>\n",
       "    .dataframe tbody tr th:only-of-type {\n",
       "        vertical-align: middle;\n",
       "    }\n",
       "\n",
       "    .dataframe tbody tr th {\n",
       "        vertical-align: top;\n",
       "    }\n",
       "\n",
       "    .dataframe thead th {\n",
       "        text-align: right;\n",
       "    }\n",
       "</style>\n",
       "<table border=\"1\" class=\"dataframe\">\n",
       "  <thead>\n",
       "    <tr style=\"text-align: right;\">\n",
       "      <th></th>\n",
       "      <th>dateCrawled</th>\n",
       "      <th>name</th>\n",
       "      <th>seller</th>\n",
       "      <th>offerType</th>\n",
       "      <th>price</th>\n",
       "      <th>abtest</th>\n",
       "      <th>vehicleType</th>\n",
       "      <th>yearOfRegistration</th>\n",
       "      <th>gearbox</th>\n",
       "      <th>powerPS</th>\n",
       "      <th>model</th>\n",
       "      <th>odometer</th>\n",
       "      <th>monthOfRegistration</th>\n",
       "      <th>fuelType</th>\n",
       "      <th>brand</th>\n",
       "      <th>notRepairedDamage</th>\n",
       "      <th>dateCreated</th>\n",
       "      <th>nrOfPictures</th>\n",
       "      <th>postalCode</th>\n",
       "      <th>lastSeen</th>\n",
       "    </tr>\n",
       "  </thead>\n",
       "  <tbody>\n",
       "    <tr>\n",
       "      <th>0</th>\n",
       "      <td>2016-03-26 17:47:46</td>\n",
       "      <td>Peugeot_807_160_NAVTECH_ON_BOARD</td>\n",
       "      <td>privat</td>\n",
       "      <td>Angebot</td>\n",
       "      <td>$5,000</td>\n",
       "      <td>control</td>\n",
       "      <td>bus</td>\n",
       "      <td>2004</td>\n",
       "      <td>manuell</td>\n",
       "      <td>158</td>\n",
       "      <td>andere</td>\n",
       "      <td>150,000km</td>\n",
       "      <td>3</td>\n",
       "      <td>lpg</td>\n",
       "      <td>peugeot</td>\n",
       "      <td>nein</td>\n",
       "      <td>2016-03-26 00:00:00</td>\n",
       "      <td>0</td>\n",
       "      <td>79588</td>\n",
       "      <td>2016-04-06 06:45:54</td>\n",
       "    </tr>\n",
       "    <tr>\n",
       "      <th>1</th>\n",
       "      <td>2016-04-04 13:38:56</td>\n",
       "      <td>BMW_740i_4_4_Liter_HAMANN_UMBAU_Mega_Optik</td>\n",
       "      <td>privat</td>\n",
       "      <td>Angebot</td>\n",
       "      <td>$8,500</td>\n",
       "      <td>control</td>\n",
       "      <td>limousine</td>\n",
       "      <td>1997</td>\n",
       "      <td>automatik</td>\n",
       "      <td>286</td>\n",
       "      <td>7er</td>\n",
       "      <td>150,000km</td>\n",
       "      <td>6</td>\n",
       "      <td>benzin</td>\n",
       "      <td>bmw</td>\n",
       "      <td>nein</td>\n",
       "      <td>2016-04-04 00:00:00</td>\n",
       "      <td>0</td>\n",
       "      <td>71034</td>\n",
       "      <td>2016-04-06 14:45:08</td>\n",
       "    </tr>\n",
       "    <tr>\n",
       "      <th>2</th>\n",
       "      <td>2016-03-26 18:57:24</td>\n",
       "      <td>Volkswagen_Golf_1.6_United</td>\n",
       "      <td>privat</td>\n",
       "      <td>Angebot</td>\n",
       "      <td>$8,990</td>\n",
       "      <td>test</td>\n",
       "      <td>limousine</td>\n",
       "      <td>2009</td>\n",
       "      <td>manuell</td>\n",
       "      <td>102</td>\n",
       "      <td>golf</td>\n",
       "      <td>70,000km</td>\n",
       "      <td>7</td>\n",
       "      <td>benzin</td>\n",
       "      <td>volkswagen</td>\n",
       "      <td>nein</td>\n",
       "      <td>2016-03-26 00:00:00</td>\n",
       "      <td>0</td>\n",
       "      <td>35394</td>\n",
       "      <td>2016-04-06 20:15:37</td>\n",
       "    </tr>\n",
       "    <tr>\n",
       "      <th>3</th>\n",
       "      <td>2016-03-12 16:58:10</td>\n",
       "      <td>Smart_smart_fortwo_coupe_softouch/F1/Klima/Pan...</td>\n",
       "      <td>privat</td>\n",
       "      <td>Angebot</td>\n",
       "      <td>$4,350</td>\n",
       "      <td>control</td>\n",
       "      <td>kleinwagen</td>\n",
       "      <td>2007</td>\n",
       "      <td>automatik</td>\n",
       "      <td>71</td>\n",
       "      <td>fortwo</td>\n",
       "      <td>70,000km</td>\n",
       "      <td>6</td>\n",
       "      <td>benzin</td>\n",
       "      <td>smart</td>\n",
       "      <td>nein</td>\n",
       "      <td>2016-03-12 00:00:00</td>\n",
       "      <td>0</td>\n",
       "      <td>33729</td>\n",
       "      <td>2016-03-15 03:16:28</td>\n",
       "    </tr>\n",
       "    <tr>\n",
       "      <th>4</th>\n",
       "      <td>2016-04-01 14:38:50</td>\n",
       "      <td>Ford_Focus_1_6_Benzin_TÜV_neu_ist_sehr_gepfleg...</td>\n",
       "      <td>privat</td>\n",
       "      <td>Angebot</td>\n",
       "      <td>$1,350</td>\n",
       "      <td>test</td>\n",
       "      <td>kombi</td>\n",
       "      <td>2003</td>\n",
       "      <td>manuell</td>\n",
       "      <td>0</td>\n",
       "      <td>focus</td>\n",
       "      <td>150,000km</td>\n",
       "      <td>7</td>\n",
       "      <td>benzin</td>\n",
       "      <td>ford</td>\n",
       "      <td>nein</td>\n",
       "      <td>2016-04-01 00:00:00</td>\n",
       "      <td>0</td>\n",
       "      <td>39218</td>\n",
       "      <td>2016-04-01 14:38:50</td>\n",
       "    </tr>\n",
       "  </tbody>\n",
       "</table>\n",
       "</div>"
      ],
      "text/plain": [
       "           dateCrawled                                               name  \\\n",
       "0  2016-03-26 17:47:46                   Peugeot_807_160_NAVTECH_ON_BOARD   \n",
       "1  2016-04-04 13:38:56         BMW_740i_4_4_Liter_HAMANN_UMBAU_Mega_Optik   \n",
       "2  2016-03-26 18:57:24                         Volkswagen_Golf_1.6_United   \n",
       "3  2016-03-12 16:58:10  Smart_smart_fortwo_coupe_softouch/F1/Klima/Pan...   \n",
       "4  2016-04-01 14:38:50  Ford_Focus_1_6_Benzin_TÜV_neu_ist_sehr_gepfleg...   \n",
       "\n",
       "   seller offerType   price   abtest vehicleType  yearOfRegistration  \\\n",
       "0  privat   Angebot  $5,000  control         bus                2004   \n",
       "1  privat   Angebot  $8,500  control   limousine                1997   \n",
       "2  privat   Angebot  $8,990     test   limousine                2009   \n",
       "3  privat   Angebot  $4,350  control  kleinwagen                2007   \n",
       "4  privat   Angebot  $1,350     test       kombi                2003   \n",
       "\n",
       "     gearbox  powerPS   model   odometer  monthOfRegistration fuelType  \\\n",
       "0    manuell      158  andere  150,000km                    3      lpg   \n",
       "1  automatik      286     7er  150,000km                    6   benzin   \n",
       "2    manuell      102    golf   70,000km                    7   benzin   \n",
       "3  automatik       71  fortwo   70,000km                    6   benzin   \n",
       "4    manuell        0   focus  150,000km                    7   benzin   \n",
       "\n",
       "        brand notRepairedDamage          dateCreated  nrOfPictures  \\\n",
       "0     peugeot              nein  2016-03-26 00:00:00             0   \n",
       "1         bmw              nein  2016-04-04 00:00:00             0   \n",
       "2  volkswagen              nein  2016-03-26 00:00:00             0   \n",
       "3       smart              nein  2016-03-12 00:00:00             0   \n",
       "4        ford              nein  2016-04-01 00:00:00             0   \n",
       "\n",
       "   postalCode             lastSeen  \n",
       "0       79588  2016-04-06 06:45:54  \n",
       "1       71034  2016-04-06 14:45:08  \n",
       "2       35394  2016-04-06 20:15:37  \n",
       "3       33729  2016-03-15 03:16:28  \n",
       "4       39218  2016-04-01 14:38:50  "
      ]
     },
     "execution_count": 4,
     "metadata": {},
     "output_type": "execute_result"
    }
   ],
   "source": [
    "autos.info()\n",
    "autos.head()"
   ]
  },
  {
   "cell_type": "markdown",
   "id": "d09900dd-362e-47ee-bcae-08790f8a2130",
   "metadata": {},
   "source": [
    "- total 20 columns\n",
    "- null value exists in 5 column: 6, 8, 10, 13,15\n",
    "- column 15 with the most null value, non-null ~80,6%\n",
    "- column name in camelcase"
   ]
  },
  {
   "cell_type": "markdown",
   "id": "2e3a2b82-b92f-4a1d-830d-6a97947b64f6",
   "metadata": {},
   "source": [
    "# Rename columns"
   ]
  },
  {
   "cell_type": "code",
   "execution_count": 7,
   "id": "e19e8636-e33b-4320-bf80-60e4b27211d1",
   "metadata": {},
   "outputs": [
    {
     "data": {
      "text/plain": [
       "Index(['dateCrawled', 'name', 'seller', 'offerType', 'price', 'abtest',\n",
       "       'vehicleType', 'yearOfRegistration', 'gearbox', 'powerPS', 'model',\n",
       "       'odometer', 'monthOfRegistration', 'fuelType', 'brand',\n",
       "       'notRepairedDamage', 'dateCreated', 'nrOfPictures', 'postalCode',\n",
       "       'lastSeen'],\n",
       "      dtype='object')"
      ]
     },
     "execution_count": 7,
     "metadata": {},
     "output_type": "execute_result"
    }
   ],
   "source": [
    "autos.columns"
   ]
  },
  {
   "cell_type": "code",
   "execution_count": 8,
   "id": "11ed5794-d7cf-4600-abf1-242aea0fe72d",
   "metadata": {},
   "outputs": [],
   "source": [
    "autos.columns = ['date_crawled', 'name', 'seller', 'offer_type', 'price', 'abtest',\n",
    "       'vehicle_type', 'registration_year', 'gearbox', 'powerps', 'model',\n",
    "       'odometer', 'registration_month', 'fuel_type', 'brand',\n",
    "       'unrepaired_damage', 'ad_created', 'nr_pictures', 'postal_code',\n",
    "       'last_seen']"
   ]
  },
  {
   "cell_type": "code",
   "execution_count": 9,
   "id": "3140a649-1f5b-40cc-8ad1-e33aea86fade",
   "metadata": {},
   "outputs": [
    {
     "data": {
      "text/html": [
       "<div>\n",
       "<style scoped>\n",
       "    .dataframe tbody tr th:only-of-type {\n",
       "        vertical-align: middle;\n",
       "    }\n",
       "\n",
       "    .dataframe tbody tr th {\n",
       "        vertical-align: top;\n",
       "    }\n",
       "\n",
       "    .dataframe thead th {\n",
       "        text-align: right;\n",
       "    }\n",
       "</style>\n",
       "<table border=\"1\" class=\"dataframe\">\n",
       "  <thead>\n",
       "    <tr style=\"text-align: right;\">\n",
       "      <th></th>\n",
       "      <th>date_crawled</th>\n",
       "      <th>name</th>\n",
       "      <th>seller</th>\n",
       "      <th>offer_type</th>\n",
       "      <th>price</th>\n",
       "      <th>abtest</th>\n",
       "      <th>vehicle_type</th>\n",
       "      <th>registration_year</th>\n",
       "      <th>gearbox</th>\n",
       "      <th>powerps</th>\n",
       "      <th>model</th>\n",
       "      <th>odometer</th>\n",
       "      <th>registration_month</th>\n",
       "      <th>fuel_type</th>\n",
       "      <th>brand</th>\n",
       "      <th>unrepaired_damage</th>\n",
       "      <th>ad_created</th>\n",
       "      <th>nr_pictures</th>\n",
       "      <th>postal_code</th>\n",
       "      <th>last_seen</th>\n",
       "    </tr>\n",
       "  </thead>\n",
       "  <tbody>\n",
       "    <tr>\n",
       "      <th>0</th>\n",
       "      <td>2016-03-26 17:47:46</td>\n",
       "      <td>Peugeot_807_160_NAVTECH_ON_BOARD</td>\n",
       "      <td>privat</td>\n",
       "      <td>Angebot</td>\n",
       "      <td>$5,000</td>\n",
       "      <td>control</td>\n",
       "      <td>bus</td>\n",
       "      <td>2004</td>\n",
       "      <td>manuell</td>\n",
       "      <td>158</td>\n",
       "      <td>andere</td>\n",
       "      <td>150,000km</td>\n",
       "      <td>3</td>\n",
       "      <td>lpg</td>\n",
       "      <td>peugeot</td>\n",
       "      <td>nein</td>\n",
       "      <td>2016-03-26 00:00:00</td>\n",
       "      <td>0</td>\n",
       "      <td>79588</td>\n",
       "      <td>2016-04-06 06:45:54</td>\n",
       "    </tr>\n",
       "    <tr>\n",
       "      <th>1</th>\n",
       "      <td>2016-04-04 13:38:56</td>\n",
       "      <td>BMW_740i_4_4_Liter_HAMANN_UMBAU_Mega_Optik</td>\n",
       "      <td>privat</td>\n",
       "      <td>Angebot</td>\n",
       "      <td>$8,500</td>\n",
       "      <td>control</td>\n",
       "      <td>limousine</td>\n",
       "      <td>1997</td>\n",
       "      <td>automatik</td>\n",
       "      <td>286</td>\n",
       "      <td>7er</td>\n",
       "      <td>150,000km</td>\n",
       "      <td>6</td>\n",
       "      <td>benzin</td>\n",
       "      <td>bmw</td>\n",
       "      <td>nein</td>\n",
       "      <td>2016-04-04 00:00:00</td>\n",
       "      <td>0</td>\n",
       "      <td>71034</td>\n",
       "      <td>2016-04-06 14:45:08</td>\n",
       "    </tr>\n",
       "    <tr>\n",
       "      <th>2</th>\n",
       "      <td>2016-03-26 18:57:24</td>\n",
       "      <td>Volkswagen_Golf_1.6_United</td>\n",
       "      <td>privat</td>\n",
       "      <td>Angebot</td>\n",
       "      <td>$8,990</td>\n",
       "      <td>test</td>\n",
       "      <td>limousine</td>\n",
       "      <td>2009</td>\n",
       "      <td>manuell</td>\n",
       "      <td>102</td>\n",
       "      <td>golf</td>\n",
       "      <td>70,000km</td>\n",
       "      <td>7</td>\n",
       "      <td>benzin</td>\n",
       "      <td>volkswagen</td>\n",
       "      <td>nein</td>\n",
       "      <td>2016-03-26 00:00:00</td>\n",
       "      <td>0</td>\n",
       "      <td>35394</td>\n",
       "      <td>2016-04-06 20:15:37</td>\n",
       "    </tr>\n",
       "    <tr>\n",
       "      <th>3</th>\n",
       "      <td>2016-03-12 16:58:10</td>\n",
       "      <td>Smart_smart_fortwo_coupe_softouch/F1/Klima/Pan...</td>\n",
       "      <td>privat</td>\n",
       "      <td>Angebot</td>\n",
       "      <td>$4,350</td>\n",
       "      <td>control</td>\n",
       "      <td>kleinwagen</td>\n",
       "      <td>2007</td>\n",
       "      <td>automatik</td>\n",
       "      <td>71</td>\n",
       "      <td>fortwo</td>\n",
       "      <td>70,000km</td>\n",
       "      <td>6</td>\n",
       "      <td>benzin</td>\n",
       "      <td>smart</td>\n",
       "      <td>nein</td>\n",
       "      <td>2016-03-12 00:00:00</td>\n",
       "      <td>0</td>\n",
       "      <td>33729</td>\n",
       "      <td>2016-03-15 03:16:28</td>\n",
       "    </tr>\n",
       "    <tr>\n",
       "      <th>4</th>\n",
       "      <td>2016-04-01 14:38:50</td>\n",
       "      <td>Ford_Focus_1_6_Benzin_TÜV_neu_ist_sehr_gepfleg...</td>\n",
       "      <td>privat</td>\n",
       "      <td>Angebot</td>\n",
       "      <td>$1,350</td>\n",
       "      <td>test</td>\n",
       "      <td>kombi</td>\n",
       "      <td>2003</td>\n",
       "      <td>manuell</td>\n",
       "      <td>0</td>\n",
       "      <td>focus</td>\n",
       "      <td>150,000km</td>\n",
       "      <td>7</td>\n",
       "      <td>benzin</td>\n",
       "      <td>ford</td>\n",
       "      <td>nein</td>\n",
       "      <td>2016-04-01 00:00:00</td>\n",
       "      <td>0</td>\n",
       "      <td>39218</td>\n",
       "      <td>2016-04-01 14:38:50</td>\n",
       "    </tr>\n",
       "  </tbody>\n",
       "</table>\n",
       "</div>"
      ],
      "text/plain": [
       "          date_crawled                                               name  \\\n",
       "0  2016-03-26 17:47:46                   Peugeot_807_160_NAVTECH_ON_BOARD   \n",
       "1  2016-04-04 13:38:56         BMW_740i_4_4_Liter_HAMANN_UMBAU_Mega_Optik   \n",
       "2  2016-03-26 18:57:24                         Volkswagen_Golf_1.6_United   \n",
       "3  2016-03-12 16:58:10  Smart_smart_fortwo_coupe_softouch/F1/Klima/Pan...   \n",
       "4  2016-04-01 14:38:50  Ford_Focus_1_6_Benzin_TÜV_neu_ist_sehr_gepfleg...   \n",
       "\n",
       "   seller offer_type   price   abtest vehicle_type  registration_year  \\\n",
       "0  privat    Angebot  $5,000  control          bus               2004   \n",
       "1  privat    Angebot  $8,500  control    limousine               1997   \n",
       "2  privat    Angebot  $8,990     test    limousine               2009   \n",
       "3  privat    Angebot  $4,350  control   kleinwagen               2007   \n",
       "4  privat    Angebot  $1,350     test        kombi               2003   \n",
       "\n",
       "     gearbox  powerps   model   odometer  registration_month fuel_type  \\\n",
       "0    manuell      158  andere  150,000km                   3       lpg   \n",
       "1  automatik      286     7er  150,000km                   6    benzin   \n",
       "2    manuell      102    golf   70,000km                   7    benzin   \n",
       "3  automatik       71  fortwo   70,000km                   6    benzin   \n",
       "4    manuell        0   focus  150,000km                   7    benzin   \n",
       "\n",
       "        brand unrepaired_damage           ad_created  nr_pictures  \\\n",
       "0     peugeot              nein  2016-03-26 00:00:00            0   \n",
       "1         bmw              nein  2016-04-04 00:00:00            0   \n",
       "2  volkswagen              nein  2016-03-26 00:00:00            0   \n",
       "3       smart              nein  2016-03-12 00:00:00            0   \n",
       "4        ford              nein  2016-04-01 00:00:00            0   \n",
       "\n",
       "   postal_code            last_seen  \n",
       "0        79588  2016-04-06 06:45:54  \n",
       "1        71034  2016-04-06 14:45:08  \n",
       "2        35394  2016-04-06 20:15:37  \n",
       "3        33729  2016-03-15 03:16:28  \n",
       "4        39218  2016-04-01 14:38:50  "
      ]
     },
     "execution_count": 9,
     "metadata": {},
     "output_type": "execute_result"
    }
   ],
   "source": [
    "autos.head()"
   ]
  },
  {
   "cell_type": "markdown",
   "id": "b919a26d-e287-4147-bfcc-035907722f0a",
   "metadata": {},
   "source": [
    "# Initial Exploration and Cleaning"
   ]
  },
  {
   "cell_type": "code",
   "execution_count": 11,
   "id": "248e0339-36d7-445a-96f7-7d0d635744f4",
   "metadata": {},
   "outputs": [
    {
     "data": {
      "text/html": [
       "<div>\n",
       "<style scoped>\n",
       "    .dataframe tbody tr th:only-of-type {\n",
       "        vertical-align: middle;\n",
       "    }\n",
       "\n",
       "    .dataframe tbody tr th {\n",
       "        vertical-align: top;\n",
       "    }\n",
       "\n",
       "    .dataframe thead th {\n",
       "        text-align: right;\n",
       "    }\n",
       "</style>\n",
       "<table border=\"1\" class=\"dataframe\">\n",
       "  <thead>\n",
       "    <tr style=\"text-align: right;\">\n",
       "      <th></th>\n",
       "      <th>date_crawled</th>\n",
       "      <th>name</th>\n",
       "      <th>seller</th>\n",
       "      <th>offer_type</th>\n",
       "      <th>price</th>\n",
       "      <th>abtest</th>\n",
       "      <th>vehicle_type</th>\n",
       "      <th>registration_year</th>\n",
       "      <th>gearbox</th>\n",
       "      <th>powerps</th>\n",
       "      <th>model</th>\n",
       "      <th>odometer</th>\n",
       "      <th>registration_month</th>\n",
       "      <th>fuel_type</th>\n",
       "      <th>brand</th>\n",
       "      <th>unrepaired_damage</th>\n",
       "      <th>ad_created</th>\n",
       "      <th>nr_pictures</th>\n",
       "      <th>postal_code</th>\n",
       "      <th>last_seen</th>\n",
       "    </tr>\n",
       "  </thead>\n",
       "  <tbody>\n",
       "    <tr>\n",
       "      <th>count</th>\n",
       "      <td>50000</td>\n",
       "      <td>50000</td>\n",
       "      <td>50000</td>\n",
       "      <td>50000</td>\n",
       "      <td>50000</td>\n",
       "      <td>50000</td>\n",
       "      <td>44905</td>\n",
       "      <td>50000.000000</td>\n",
       "      <td>47320</td>\n",
       "      <td>50000.000000</td>\n",
       "      <td>47242</td>\n",
       "      <td>50000</td>\n",
       "      <td>50000.000000</td>\n",
       "      <td>45518</td>\n",
       "      <td>50000</td>\n",
       "      <td>40171</td>\n",
       "      <td>50000</td>\n",
       "      <td>50000.0</td>\n",
       "      <td>50000.000000</td>\n",
       "      <td>50000</td>\n",
       "    </tr>\n",
       "    <tr>\n",
       "      <th>unique</th>\n",
       "      <td>48213</td>\n",
       "      <td>38754</td>\n",
       "      <td>2</td>\n",
       "      <td>2</td>\n",
       "      <td>2357</td>\n",
       "      <td>2</td>\n",
       "      <td>8</td>\n",
       "      <td>NaN</td>\n",
       "      <td>2</td>\n",
       "      <td>NaN</td>\n",
       "      <td>245</td>\n",
       "      <td>13</td>\n",
       "      <td>NaN</td>\n",
       "      <td>7</td>\n",
       "      <td>40</td>\n",
       "      <td>2</td>\n",
       "      <td>76</td>\n",
       "      <td>NaN</td>\n",
       "      <td>NaN</td>\n",
       "      <td>39481</td>\n",
       "    </tr>\n",
       "    <tr>\n",
       "      <th>top</th>\n",
       "      <td>2016-04-02 11:37:04</td>\n",
       "      <td>Ford_Fiesta</td>\n",
       "      <td>privat</td>\n",
       "      <td>Angebot</td>\n",
       "      <td>$0</td>\n",
       "      <td>test</td>\n",
       "      <td>limousine</td>\n",
       "      <td>NaN</td>\n",
       "      <td>manuell</td>\n",
       "      <td>NaN</td>\n",
       "      <td>golf</td>\n",
       "      <td>150,000km</td>\n",
       "      <td>NaN</td>\n",
       "      <td>benzin</td>\n",
       "      <td>volkswagen</td>\n",
       "      <td>nein</td>\n",
       "      <td>2016-04-03 00:00:00</td>\n",
       "      <td>NaN</td>\n",
       "      <td>NaN</td>\n",
       "      <td>2016-04-07 06:17:27</td>\n",
       "    </tr>\n",
       "    <tr>\n",
       "      <th>freq</th>\n",
       "      <td>3</td>\n",
       "      <td>78</td>\n",
       "      <td>49999</td>\n",
       "      <td>49999</td>\n",
       "      <td>1421</td>\n",
       "      <td>25756</td>\n",
       "      <td>12859</td>\n",
       "      <td>NaN</td>\n",
       "      <td>36993</td>\n",
       "      <td>NaN</td>\n",
       "      <td>4024</td>\n",
       "      <td>32424</td>\n",
       "      <td>NaN</td>\n",
       "      <td>30107</td>\n",
       "      <td>10687</td>\n",
       "      <td>35232</td>\n",
       "      <td>1946</td>\n",
       "      <td>NaN</td>\n",
       "      <td>NaN</td>\n",
       "      <td>8</td>\n",
       "    </tr>\n",
       "    <tr>\n",
       "      <th>mean</th>\n",
       "      <td>NaN</td>\n",
       "      <td>NaN</td>\n",
       "      <td>NaN</td>\n",
       "      <td>NaN</td>\n",
       "      <td>NaN</td>\n",
       "      <td>NaN</td>\n",
       "      <td>NaN</td>\n",
       "      <td>2005.073280</td>\n",
       "      <td>NaN</td>\n",
       "      <td>116.355920</td>\n",
       "      <td>NaN</td>\n",
       "      <td>NaN</td>\n",
       "      <td>5.723360</td>\n",
       "      <td>NaN</td>\n",
       "      <td>NaN</td>\n",
       "      <td>NaN</td>\n",
       "      <td>NaN</td>\n",
       "      <td>0.0</td>\n",
       "      <td>50813.627300</td>\n",
       "      <td>NaN</td>\n",
       "    </tr>\n",
       "    <tr>\n",
       "      <th>std</th>\n",
       "      <td>NaN</td>\n",
       "      <td>NaN</td>\n",
       "      <td>NaN</td>\n",
       "      <td>NaN</td>\n",
       "      <td>NaN</td>\n",
       "      <td>NaN</td>\n",
       "      <td>NaN</td>\n",
       "      <td>105.712813</td>\n",
       "      <td>NaN</td>\n",
       "      <td>209.216627</td>\n",
       "      <td>NaN</td>\n",
       "      <td>NaN</td>\n",
       "      <td>3.711984</td>\n",
       "      <td>NaN</td>\n",
       "      <td>NaN</td>\n",
       "      <td>NaN</td>\n",
       "      <td>NaN</td>\n",
       "      <td>0.0</td>\n",
       "      <td>25779.747957</td>\n",
       "      <td>NaN</td>\n",
       "    </tr>\n",
       "    <tr>\n",
       "      <th>min</th>\n",
       "      <td>NaN</td>\n",
       "      <td>NaN</td>\n",
       "      <td>NaN</td>\n",
       "      <td>NaN</td>\n",
       "      <td>NaN</td>\n",
       "      <td>NaN</td>\n",
       "      <td>NaN</td>\n",
       "      <td>1000.000000</td>\n",
       "      <td>NaN</td>\n",
       "      <td>0.000000</td>\n",
       "      <td>NaN</td>\n",
       "      <td>NaN</td>\n",
       "      <td>0.000000</td>\n",
       "      <td>NaN</td>\n",
       "      <td>NaN</td>\n",
       "      <td>NaN</td>\n",
       "      <td>NaN</td>\n",
       "      <td>0.0</td>\n",
       "      <td>1067.000000</td>\n",
       "      <td>NaN</td>\n",
       "    </tr>\n",
       "    <tr>\n",
       "      <th>25%</th>\n",
       "      <td>NaN</td>\n",
       "      <td>NaN</td>\n",
       "      <td>NaN</td>\n",
       "      <td>NaN</td>\n",
       "      <td>NaN</td>\n",
       "      <td>NaN</td>\n",
       "      <td>NaN</td>\n",
       "      <td>1999.000000</td>\n",
       "      <td>NaN</td>\n",
       "      <td>70.000000</td>\n",
       "      <td>NaN</td>\n",
       "      <td>NaN</td>\n",
       "      <td>3.000000</td>\n",
       "      <td>NaN</td>\n",
       "      <td>NaN</td>\n",
       "      <td>NaN</td>\n",
       "      <td>NaN</td>\n",
       "      <td>0.0</td>\n",
       "      <td>30451.000000</td>\n",
       "      <td>NaN</td>\n",
       "    </tr>\n",
       "    <tr>\n",
       "      <th>50%</th>\n",
       "      <td>NaN</td>\n",
       "      <td>NaN</td>\n",
       "      <td>NaN</td>\n",
       "      <td>NaN</td>\n",
       "      <td>NaN</td>\n",
       "      <td>NaN</td>\n",
       "      <td>NaN</td>\n",
       "      <td>2003.000000</td>\n",
       "      <td>NaN</td>\n",
       "      <td>105.000000</td>\n",
       "      <td>NaN</td>\n",
       "      <td>NaN</td>\n",
       "      <td>6.000000</td>\n",
       "      <td>NaN</td>\n",
       "      <td>NaN</td>\n",
       "      <td>NaN</td>\n",
       "      <td>NaN</td>\n",
       "      <td>0.0</td>\n",
       "      <td>49577.000000</td>\n",
       "      <td>NaN</td>\n",
       "    </tr>\n",
       "    <tr>\n",
       "      <th>75%</th>\n",
       "      <td>NaN</td>\n",
       "      <td>NaN</td>\n",
       "      <td>NaN</td>\n",
       "      <td>NaN</td>\n",
       "      <td>NaN</td>\n",
       "      <td>NaN</td>\n",
       "      <td>NaN</td>\n",
       "      <td>2008.000000</td>\n",
       "      <td>NaN</td>\n",
       "      <td>150.000000</td>\n",
       "      <td>NaN</td>\n",
       "      <td>NaN</td>\n",
       "      <td>9.000000</td>\n",
       "      <td>NaN</td>\n",
       "      <td>NaN</td>\n",
       "      <td>NaN</td>\n",
       "      <td>NaN</td>\n",
       "      <td>0.0</td>\n",
       "      <td>71540.000000</td>\n",
       "      <td>NaN</td>\n",
       "    </tr>\n",
       "    <tr>\n",
       "      <th>max</th>\n",
       "      <td>NaN</td>\n",
       "      <td>NaN</td>\n",
       "      <td>NaN</td>\n",
       "      <td>NaN</td>\n",
       "      <td>NaN</td>\n",
       "      <td>NaN</td>\n",
       "      <td>NaN</td>\n",
       "      <td>9999.000000</td>\n",
       "      <td>NaN</td>\n",
       "      <td>17700.000000</td>\n",
       "      <td>NaN</td>\n",
       "      <td>NaN</td>\n",
       "      <td>12.000000</td>\n",
       "      <td>NaN</td>\n",
       "      <td>NaN</td>\n",
       "      <td>NaN</td>\n",
       "      <td>NaN</td>\n",
       "      <td>0.0</td>\n",
       "      <td>99998.000000</td>\n",
       "      <td>NaN</td>\n",
       "    </tr>\n",
       "  </tbody>\n",
       "</table>\n",
       "</div>"
      ],
      "text/plain": [
       "               date_crawled         name  seller offer_type  price abtest  \\\n",
       "count                 50000        50000   50000      50000  50000  50000   \n",
       "unique                48213        38754       2          2   2357      2   \n",
       "top     2016-04-02 11:37:04  Ford_Fiesta  privat    Angebot     $0   test   \n",
       "freq                      3           78   49999      49999   1421  25756   \n",
       "mean                    NaN          NaN     NaN        NaN    NaN    NaN   \n",
       "std                     NaN          NaN     NaN        NaN    NaN    NaN   \n",
       "min                     NaN          NaN     NaN        NaN    NaN    NaN   \n",
       "25%                     NaN          NaN     NaN        NaN    NaN    NaN   \n",
       "50%                     NaN          NaN     NaN        NaN    NaN    NaN   \n",
       "75%                     NaN          NaN     NaN        NaN    NaN    NaN   \n",
       "max                     NaN          NaN     NaN        NaN    NaN    NaN   \n",
       "\n",
       "       vehicle_type  registration_year  gearbox       powerps  model  \\\n",
       "count         44905       50000.000000    47320  50000.000000  47242   \n",
       "unique            8                NaN        2           NaN    245   \n",
       "top       limousine                NaN  manuell           NaN   golf   \n",
       "freq          12859                NaN    36993           NaN   4024   \n",
       "mean            NaN        2005.073280      NaN    116.355920    NaN   \n",
       "std             NaN         105.712813      NaN    209.216627    NaN   \n",
       "min             NaN        1000.000000      NaN      0.000000    NaN   \n",
       "25%             NaN        1999.000000      NaN     70.000000    NaN   \n",
       "50%             NaN        2003.000000      NaN    105.000000    NaN   \n",
       "75%             NaN        2008.000000      NaN    150.000000    NaN   \n",
       "max             NaN        9999.000000      NaN  17700.000000    NaN   \n",
       "\n",
       "         odometer  registration_month fuel_type       brand unrepaired_damage  \\\n",
       "count       50000        50000.000000     45518       50000             40171   \n",
       "unique         13                 NaN         7          40                 2   \n",
       "top     150,000km                 NaN    benzin  volkswagen              nein   \n",
       "freq        32424                 NaN     30107       10687             35232   \n",
       "mean          NaN            5.723360       NaN         NaN               NaN   \n",
       "std           NaN            3.711984       NaN         NaN               NaN   \n",
       "min           NaN            0.000000       NaN         NaN               NaN   \n",
       "25%           NaN            3.000000       NaN         NaN               NaN   \n",
       "50%           NaN            6.000000       NaN         NaN               NaN   \n",
       "75%           NaN            9.000000       NaN         NaN               NaN   \n",
       "max           NaN           12.000000       NaN         NaN               NaN   \n",
       "\n",
       "                 ad_created  nr_pictures   postal_code            last_seen  \n",
       "count                 50000      50000.0  50000.000000                50000  \n",
       "unique                   76          NaN           NaN                39481  \n",
       "top     2016-04-03 00:00:00          NaN           NaN  2016-04-07 06:17:27  \n",
       "freq                   1946          NaN           NaN                    8  \n",
       "mean                    NaN          0.0  50813.627300                  NaN  \n",
       "std                     NaN          0.0  25779.747957                  NaN  \n",
       "min                     NaN          0.0   1067.000000                  NaN  \n",
       "25%                     NaN          0.0  30451.000000                  NaN  \n",
       "50%                     NaN          0.0  49577.000000                  NaN  \n",
       "75%                     NaN          0.0  71540.000000                  NaN  \n",
       "max                     NaN          0.0  99998.000000                  NaN  "
      ]
     },
     "execution_count": 11,
     "metadata": {},
     "output_type": "execute_result"
    }
   ],
   "source": [
    "autos.describe(include='all')"
   ]
  },
  {
   "cell_type": "code",
   "execution_count": 12,
   "id": "6957eff4-377b-417d-86ea-7d69f028cff7",
   "metadata": {},
   "outputs": [
    {
     "data": {
      "text/plain": [
       "nr_pictures\n",
       "0    50000\n",
       "Name: count, dtype: int64"
      ]
     },
     "execution_count": 12,
     "metadata": {},
     "output_type": "execute_result"
    }
   ],
   "source": [
    "autos['nr_pictures'].value_counts()"
   ]
  },
  {
   "cell_type": "code",
   "execution_count": 13,
   "id": "0d33d4f8-37c7-49e3-9c2c-f9b6b743c396",
   "metadata": {},
   "outputs": [
    {
     "data": {
      "text/plain": [
       "seller\n",
       "privat        49999\n",
       "gewerblich        1\n",
       "Name: count, dtype: int64"
      ]
     },
     "execution_count": 13,
     "metadata": {},
     "output_type": "execute_result"
    }
   ],
   "source": [
    "autos['seller'].value_counts()"
   ]
  },
  {
   "cell_type": "code",
   "execution_count": 14,
   "id": "fdbfe94f-aba8-4518-80db-7a8131e67e0e",
   "metadata": {},
   "outputs": [
    {
     "data": {
      "text/plain": [
       "offer_type\n",
       "Angebot    49999\n",
       "Gesuch         1\n",
       "Name: count, dtype: int64"
      ]
     },
     "execution_count": 14,
     "metadata": {},
     "output_type": "execute_result"
    }
   ],
   "source": [
    "autos['offer_type'].value_counts()"
   ]
  },
  {
   "cell_type": "code",
   "execution_count": 15,
   "id": "533a1887-b871-4bcc-bd4d-b2b8a2fc52b0",
   "metadata": {},
   "outputs": [
    {
     "data": {
      "text/plain": [
       "0    $5,000\n",
       "1    $8,500\n",
       "2    $8,990\n",
       "3    $4,350\n",
       "4    $1,350\n",
       "Name: price, dtype: object"
      ]
     },
     "execution_count": 15,
     "metadata": {},
     "output_type": "execute_result"
    }
   ],
   "source": [
    "autos['price'].head()"
   ]
  },
  {
   "cell_type": "code",
   "execution_count": 16,
   "id": "79a3b296-e4be-46de-8dda-af5ba11243e4",
   "metadata": {},
   "outputs": [
    {
     "data": {
      "text/plain": [
       "0    150,000km\n",
       "1    150,000km\n",
       "2     70,000km\n",
       "3     70,000km\n",
       "4    150,000km\n",
       "Name: odometer, dtype: object"
      ]
     },
     "execution_count": 16,
     "metadata": {},
     "output_type": "execute_result"
    }
   ],
   "source": [
    "autos['odometer'].head()"
   ]
  },
  {
   "cell_type": "markdown",
   "id": "c4823601-c1ea-4f11-8281-6b93d7ed58f4",
   "metadata": {},
   "source": [
    "- nr_pictures only have 0 value --> can be dropped\n",
    "- price, odometer can be converted to numberic"
   ]
  },
  {
   "cell_type": "code",
   "execution_count": 18,
   "id": "3a5e1905-7a3c-4395-8219-263f9535d679",
   "metadata": {},
   "outputs": [],
   "source": [
    "autos['price'] = autos['price'].str.replace('$','')\n",
    "autos['price'] = autos['price'].str.replace(',','').astype(float)"
   ]
  },
  {
   "cell_type": "code",
   "execution_count": 19,
   "id": "7a88f296-8ac1-438f-abc3-e7b9d65a7201",
   "metadata": {},
   "outputs": [],
   "source": [
    "autos['odometer'] = autos['odometer'].str.replace('km','')\n",
    "autos['odometer'] = autos['odometer'].str.replace(',','').astype(float)"
   ]
  },
  {
   "cell_type": "code",
   "execution_count": 20,
   "id": "11bb34dd-77c0-4c70-b0fb-fa55b76a3145",
   "metadata": {},
   "outputs": [],
   "source": [
    "autos.rename(columns = {'odometer':'odometer_km'}, inplace = True)"
   ]
  },
  {
   "cell_type": "code",
   "execution_count": 21,
   "id": "222e5b36-0778-4637-a810-77f1ce3d9a18",
   "metadata": {},
   "outputs": [
    {
     "data": {
      "text/plain": [
       "count    5.000000e+04\n",
       "mean     9.840044e+03\n",
       "std      4.811044e+05\n",
       "min      0.000000e+00\n",
       "25%      1.100000e+03\n",
       "50%      2.950000e+03\n",
       "75%      7.200000e+03\n",
       "max      1.000000e+08\n",
       "Name: price, dtype: float64"
      ]
     },
     "execution_count": 21,
     "metadata": {},
     "output_type": "execute_result"
    }
   ],
   "source": [
    "autos['price'].describe()"
   ]
  },
  {
   "cell_type": "code",
   "execution_count": 22,
   "id": "b3b0c166-cabb-4eb6-b685-c0b819b6db9e",
   "metadata": {},
   "outputs": [
    {
     "data": {
      "text/plain": [
       "price\n",
       "0.0    1421\n",
       "1.0     156\n",
       "2.0       3\n",
       "3.0       1\n",
       "5.0       2\n",
       "Name: count, dtype: int64"
      ]
     },
     "execution_count": 22,
     "metadata": {},
     "output_type": "execute_result"
    }
   ],
   "source": [
    "autos['price'].value_counts().sort_index(ascending = True).head()\n",
    "#autos['price'].value_counts().sort_index(ascending = False).head()"
   ]
  },
  {
   "cell_type": "markdown",
   "id": "172b9217-c7d7-42cf-8ed9-7f62bf5bfa48",
   "metadata": {},
   "source": [
    "- Given that eBay is an auction site, there could legitimately be items where the opening bid is 1 items, but remove anything above $350,000, since it seems that prices increase steadily to that number and then jump up to less realistic numbers.\n",
    "--> consider items with price over 350k are outliers"
   ]
  },
  {
   "cell_type": "code",
   "execution_count": 24,
   "id": "628f3087-e36b-49bc-83a3-e5b84c2cbd19",
   "metadata": {},
   "outputs": [
    {
     "data": {
      "text/plain": [
       "count     48565.000000\n",
       "mean       5888.935591\n",
       "std        9059.854754\n",
       "min           1.000000\n",
       "25%        1200.000000\n",
       "50%        3000.000000\n",
       "75%        7490.000000\n",
       "max      350000.000000\n",
       "Name: price, dtype: float64"
      ]
     },
     "execution_count": 24,
     "metadata": {},
     "output_type": "execute_result"
    }
   ],
   "source": [
    "autos = autos[autos['price'].between(1,351000)]\n",
    "autos['price'].describe()"
   ]
  },
  {
   "cell_type": "code",
   "execution_count": 25,
   "id": "52b330df-976b-4faa-94af-d493962aa14c",
   "metadata": {},
   "outputs": [
    {
     "data": {
      "text/plain": [
       "count     48565.000000\n",
       "mean     125770.101925\n",
       "std       39788.636804\n",
       "min        5000.000000\n",
       "25%      125000.000000\n",
       "50%      150000.000000\n",
       "75%      150000.000000\n",
       "max      150000.000000\n",
       "Name: odometer_km, dtype: float64"
      ]
     },
     "execution_count": 25,
     "metadata": {},
     "output_type": "execute_result"
    }
   ],
   "source": [
    "autos['odometer_km'].describe()"
   ]
  },
  {
   "cell_type": "code",
   "execution_count": 26,
   "id": "1bbd0ddc-2aa3-4251-affa-0569b0895414",
   "metadata": {},
   "outputs": [
    {
     "data": {
      "text/plain": [
       "odometer_km\n",
       "5000.0        836\n",
       "10000.0       253\n",
       "20000.0       762\n",
       "30000.0       780\n",
       "40000.0       815\n",
       "50000.0      1012\n",
       "60000.0      1155\n",
       "70000.0      1217\n",
       "80000.0      1415\n",
       "90000.0      1734\n",
       "100000.0     2115\n",
       "125000.0     5057\n",
       "150000.0    31414\n",
       "Name: count, dtype: int64"
      ]
     },
     "execution_count": 26,
     "metadata": {},
     "output_type": "execute_result"
    }
   ],
   "source": [
    "autos['odometer_km'].value_counts().sort_index(ascending = True)"
   ]
  },
  {
   "cell_type": "markdown",
   "id": "ed4181d2-f7e0-4c67-908b-bbef837f9388",
   "metadata": {},
   "source": [
    "odometer should have been rounded"
   ]
  },
  {
   "cell_type": "markdown",
   "id": "cc2dcf04-ac59-416c-9b64-d2214744bfbd",
   "metadata": {},
   "source": [
    "## Exploring the Date Columns"
   ]
  },
  {
   "cell_type": "code",
   "execution_count": 29,
   "id": "9e26ae6a-c114-4ed8-a9da-113b8632cf84",
   "metadata": {},
   "outputs": [
    {
     "data": {
      "text/plain": [
       "date_crawled\n",
       "2016-03-05    0.025327\n",
       "2016-03-06    0.014043\n",
       "2016-03-07    0.036014\n",
       "2016-03-08    0.033296\n",
       "2016-03-09    0.033090\n",
       "2016-03-10    0.032184\n",
       "2016-03-11    0.032575\n",
       "2016-03-12    0.036920\n",
       "2016-03-13    0.015670\n",
       "2016-03-14    0.036549\n",
       "2016-03-15    0.034284\n",
       "2016-03-16    0.029610\n",
       "2016-03-17    0.031628\n",
       "2016-03-18    0.012911\n",
       "2016-03-19    0.034778\n",
       "2016-03-20    0.037887\n",
       "2016-03-21    0.037373\n",
       "2016-03-22    0.032987\n",
       "2016-03-23    0.032225\n",
       "2016-03-24    0.029342\n",
       "2016-03-25    0.031607\n",
       "2016-03-26    0.032204\n",
       "2016-03-27    0.031092\n",
       "2016-03-28    0.034860\n",
       "2016-03-29    0.034099\n",
       "2016-03-30    0.033687\n",
       "2016-03-31    0.031834\n",
       "2016-04-01    0.033687\n",
       "2016-04-02    0.035478\n",
       "2016-04-03    0.038608\n",
       "2016-04-04    0.036487\n",
       "2016-04-05    0.013096\n",
       "2016-04-06    0.003171\n",
       "2016-04-07    0.001400\n",
       "Name: proportion, dtype: float64"
      ]
     },
     "execution_count": 29,
     "metadata": {},
     "output_type": "execute_result"
    }
   ],
   "source": [
    "autos['date_crawled'].str[:10].value_counts(normalize=True, dropna=False).sort_index()"
   ]
  },
  {
   "cell_type": "markdown",
   "id": "5a5a74ac-df76-4db5-967d-400ef73d155d",
   "metadata": {},
   "source": [
    "data was crawled daily from 05-03-2016 to 07-04-2016"
   ]
  },
  {
   "cell_type": "code",
   "execution_count": 31,
   "id": "af11e315-b5a4-4d6b-b3a3-973c484c5ee0",
   "metadata": {},
   "outputs": [
    {
     "data": {
      "text/plain": [
       "ad_created\n",
       "2015-06-11    0.000021\n",
       "2015-08-10    0.000021\n",
       "2015-09-09    0.000021\n",
       "2015-11-10    0.000021\n",
       "2015-12-05    0.000021\n",
       "                ...   \n",
       "2016-04-03    0.038855\n",
       "2016-04-04    0.036858\n",
       "2016-04-05    0.011819\n",
       "2016-04-06    0.003253\n",
       "2016-04-07    0.001256\n",
       "Name: proportion, Length: 76, dtype: float64"
      ]
     },
     "execution_count": 31,
     "metadata": {},
     "output_type": "execute_result"
    }
   ],
   "source": [
    "autos['ad_created'].str[:10].value_counts(normalize=True, dropna=False).sort_index()"
   ]
  },
  {
   "cell_type": "markdown",
   "id": "986321c6-38e2-428e-b66a-2e5657206bf3",
   "metadata": {},
   "source": [
    "oldest created date is 11-06-2015, most of the ads created lately"
   ]
  },
  {
   "cell_type": "code",
   "execution_count": 33,
   "id": "9d8c8ccc-0038-4c7a-9da5-c76249b6bf52",
   "metadata": {},
   "outputs": [
    {
     "data": {
      "text/plain": [
       "last_seen\n",
       "2016-03-05    0.001071\n",
       "2016-03-06    0.004324\n",
       "2016-03-07    0.005395\n",
       "2016-03-08    0.007413\n",
       "2016-03-09    0.009595\n",
       "2016-03-10    0.010666\n",
       "2016-03-11    0.012375\n",
       "2016-03-12    0.023783\n",
       "2016-03-13    0.008895\n",
       "2016-03-14    0.012602\n",
       "2016-03-15    0.015876\n",
       "2016-03-16    0.016452\n",
       "2016-03-17    0.028086\n",
       "2016-03-18    0.007351\n",
       "2016-03-19    0.015834\n",
       "2016-03-20    0.020653\n",
       "2016-03-21    0.020632\n",
       "2016-03-22    0.021373\n",
       "2016-03-23    0.018532\n",
       "2016-03-24    0.019767\n",
       "2016-03-25    0.019211\n",
       "2016-03-26    0.016802\n",
       "2016-03-27    0.015649\n",
       "2016-03-28    0.020859\n",
       "2016-03-29    0.022341\n",
       "2016-03-30    0.024771\n",
       "2016-03-31    0.023783\n",
       "2016-04-01    0.022794\n",
       "2016-04-02    0.024915\n",
       "2016-04-03    0.025203\n",
       "2016-04-04    0.024483\n",
       "2016-04-05    0.124761\n",
       "2016-04-06    0.221806\n",
       "2016-04-07    0.131947\n",
       "Name: proportion, dtype: float64"
      ]
     },
     "execution_count": 33,
     "metadata": {},
     "output_type": "execute_result"
    }
   ],
   "source": [
    "autos['last_seen'].str[:10].value_counts(normalize=True, dropna=False).sort_index()"
   ]
  },
  {
   "cell_type": "markdown",
   "id": "db5b9a2b-5bf4-440f-9930-50986a1361c4",
   "metadata": {},
   "source": [
    "the last three days have biggest proportion"
   ]
  },
  {
   "cell_type": "code",
   "execution_count": 35,
   "id": "8732a5d0-3e90-4726-8bcd-97c130feb019",
   "metadata": {},
   "outputs": [
    {
     "data": {
      "text/plain": [
       "count    48565.000000\n",
       "mean      2004.755421\n",
       "std         88.643887\n",
       "min       1000.000000\n",
       "25%       1999.000000\n",
       "50%       2004.000000\n",
       "75%       2008.000000\n",
       "max       9999.000000\n",
       "Name: registration_year, dtype: float64"
      ]
     },
     "execution_count": 35,
     "metadata": {},
     "output_type": "execute_result"
    }
   ],
   "source": [
    "autos['registration_year'].describe()"
   ]
  },
  {
   "cell_type": "markdown",
   "id": "a0a6aecb-36af-480f-b385-123d08b0926f",
   "metadata": {},
   "source": [
    "registration year of 1000 and 9999 seem unrealistic"
   ]
  },
  {
   "cell_type": "markdown",
   "id": "8a87150c-0213-4bf8-bd33-fca3a79b8886",
   "metadata": {},
   "source": [
    "## Dealing with Incorrect Registration Year Data"
   ]
  },
  {
   "cell_type": "code",
   "execution_count": 38,
   "id": "f2da0a86-de08-4790-bfad-c136eb557a8c",
   "metadata": {},
   "outputs": [],
   "source": [
    "autos = autos[autos['registration_year'].between(1900,2016)]"
   ]
  },
  {
   "cell_type": "code",
   "execution_count": 39,
   "id": "fb7fdd99-7cac-4889-ab2d-d8dc94bbd8ab",
   "metadata": {},
   "outputs": [
    {
     "data": {
      "text/plain": [
       "registration_year\n",
       "1910    0.000107\n",
       "1927    0.000021\n",
       "1929    0.000021\n",
       "1931    0.000021\n",
       "1934    0.000043\n",
       "          ...   \n",
       "2012    0.028063\n",
       "2013    0.017202\n",
       "2014    0.014203\n",
       "2015    0.008397\n",
       "2016    0.026135\n",
       "Name: proportion, Length: 78, dtype: float64"
      ]
     },
     "execution_count": 39,
     "metadata": {},
     "output_type": "execute_result"
    }
   ],
   "source": [
    "autos['registration_year'].value_counts(normalize=True, dropna=False).sort_index()"
   ]
  },
  {
   "cell_type": "markdown",
   "id": "8180a85b-705f-4792-938c-75a0ef3e281c",
   "metadata": {},
   "source": [
    "# Exploring Price by Brand"
   ]
  },
  {
   "cell_type": "code",
   "execution_count": 41,
   "id": "d713b1e1-5fc3-440a-9a89-f1837f1c68f6",
   "metadata": {},
   "outputs": [
    {
     "data": {
      "text/plain": [
       "array(['peugeot', 'bmw', 'volkswagen', 'smart', 'ford', 'chrysler',\n",
       "       'seat', 'renault', 'mercedes_benz', 'audi', 'sonstige_autos',\n",
       "       'opel', 'mazda', 'porsche', 'mini', 'toyota', 'dacia', 'nissan',\n",
       "       'jeep', 'saab', 'volvo', 'mitsubishi', 'jaguar', 'fiat', 'skoda',\n",
       "       'subaru', 'kia', 'citroen', 'chevrolet', 'hyundai', 'honda',\n",
       "       'daewoo', 'suzuki', 'trabant', 'land_rover', 'alfa_romeo', 'lada',\n",
       "       'rover', 'daihatsu', 'lancia'], dtype=object)"
      ]
     },
     "execution_count": 41,
     "metadata": {},
     "output_type": "execute_result"
    }
   ],
   "source": [
    "autos['brand'].unique()"
   ]
  },
  {
   "cell_type": "code",
   "execution_count": 42,
   "id": "158aa6f1-30e6-4593-a50d-7e4e2fe55ab3",
   "metadata": {},
   "outputs": [
    {
     "data": {
      "text/plain": [
       "brand\n",
       "volkswagen        0.211264\n",
       "bmw               0.110045\n",
       "opel              0.107581\n",
       "mercedes_benz     0.096463\n",
       "audi              0.086566\n",
       "ford              0.069900\n",
       "renault           0.047150\n",
       "peugeot           0.029841\n",
       "fiat              0.025642\n",
       "seat              0.018273\n",
       "skoda             0.016409\n",
       "nissan            0.015274\n",
       "mazda             0.015188\n",
       "smart             0.014160\n",
       "citroen           0.014010\n",
       "toyota            0.012703\n",
       "hyundai           0.010025\n",
       "sonstige_autos    0.009811\n",
       "volvo             0.009147\n",
       "mini              0.008762\n",
       "mitsubishi        0.008226\n",
       "honda             0.007840\n",
       "kia               0.007069\n",
       "alfa_romeo        0.006641\n",
       "porsche           0.006127\n",
       "suzuki            0.005934\n",
       "chevrolet         0.005698\n",
       "chrysler          0.003513\n",
       "dacia             0.002635\n",
       "daihatsu          0.002506\n",
       "jeep              0.002271\n",
       "subaru            0.002142\n",
       "land_rover        0.002099\n",
       "saab              0.001649\n",
       "jaguar            0.001564\n",
       "daewoo            0.001500\n",
       "trabant           0.001392\n",
       "rover             0.001328\n",
       "lancia            0.001071\n",
       "lada              0.000578\n",
       "Name: proportion, dtype: float64"
      ]
     },
     "execution_count": 42,
     "metadata": {},
     "output_type": "execute_result"
    }
   ],
   "source": [
    "autos[\"brand\"].value_counts(normalize=True)"
   ]
  },
  {
   "cell_type": "markdown",
   "id": "4f838a1c-cfd3-4d65-ae77-9ba5cfe76110",
   "metadata": {},
   "source": [
    "Some of the most popular branch listed: volkswagen, bmw, opel, mercedes_benz,..."
   ]
  },
  {
   "cell_type": "code",
   "execution_count": 44,
   "id": "5b845a9f-bc2e-484d-8858-5f5df8859306",
   "metadata": {},
   "outputs": [
    {
     "name": "stdout",
     "output_type": "stream",
     "text": [
      "Index(['volkswagen', 'bmw', 'opel', 'mercedes_benz', 'audi', 'ford'], dtype='object', name='brand')\n"
     ]
    }
   ],
   "source": [
    "brand_count = autos[\"brand\"].value_counts(normalize=True)\n",
    "selected_brand = brand_count[brand_count> 0.05].index\n",
    "print(selected_brand)"
   ]
  },
  {
   "cell_type": "code",
   "execution_count": 45,
   "id": "cd12fee7-61a6-4b89-b019-4f602c54184e",
   "metadata": {},
   "outputs": [
    {
     "name": "stdout",
     "output_type": "stream",
     "text": [
      "{'volkswagen': 5402.410261610221, 'bmw': 8332.820517811953, 'opel': 2975.2419354838707, 'mercedes_benz': 8628.450366422385, 'audi': 9336.687453600594, 'ford': 3749.4695065890287}\n"
     ]
    }
   ],
   "source": [
    "brand_dict = {}\n",
    "for brand in selected_brand:\n",
    "    brand_df = autos[autos['brand'] == brand]\n",
    "    mean = brand_df['price'].mean()\n",
    "    brand_dict[brand] = mean\n",
    "print(brand_dict)"
   ]
  },
  {
   "cell_type": "markdown",
   "id": "7ff74a4a-a47e-4dc4-a5a8-ebf575d0c0c2",
   "metadata": {},
   "source": [
    "bmw, mercedes, audi are more expensive than volkswagen, opel, ford"
   ]
  },
  {
   "cell_type": "markdown",
   "id": "9ef57317-221d-4cff-8fbc-9cca13be17de",
   "metadata": {},
   "source": [
    "# Storing Aggregate Data in a DataFrame"
   ]
  },
  {
   "cell_type": "code",
   "execution_count": 48,
   "id": "361deea4-0086-42f4-b34f-817486c357c9",
   "metadata": {},
   "outputs": [
    {
     "name": "stdout",
     "output_type": "stream",
     "text": [
      "{'volkswagen': 128707.15879132022, 'bmw': 132572.51313996495, 'opel': 129310.0358422939, 'mercedes_benz': 130788.36331334666, 'audi': 129157.38678544914, 'ford': 124266.01287159056}\n"
     ]
    }
   ],
   "source": [
    "mileage_dict = {}\n",
    "for brand in selected_brand:\n",
    "    brand_df = autos[autos['brand'] == brand]\n",
    "    mean = brand_df['odometer_km'].mean()\n",
    "    mileage_dict[brand] = mean\n",
    "print(mileage_dict)"
   ]
  },
  {
   "cell_type": "code",
   "execution_count": 49,
   "id": "2fd6ca03-3252-4b6b-94fc-4b59aeb328f8",
   "metadata": {},
   "outputs": [
    {
     "data": {
      "text/html": [
       "<div>\n",
       "<style scoped>\n",
       "    .dataframe tbody tr th:only-of-type {\n",
       "        vertical-align: middle;\n",
       "    }\n",
       "\n",
       "    .dataframe tbody tr th {\n",
       "        vertical-align: top;\n",
       "    }\n",
       "\n",
       "    .dataframe thead th {\n",
       "        text-align: right;\n",
       "    }\n",
       "</style>\n",
       "<table border=\"1\" class=\"dataframe\">\n",
       "  <thead>\n",
       "    <tr style=\"text-align: right;\">\n",
       "      <th></th>\n",
       "      <th>mean_mileage</th>\n",
       "      <th>mean_price</th>\n",
       "    </tr>\n",
       "  </thead>\n",
       "  <tbody>\n",
       "    <tr>\n",
       "      <th>volkswagen</th>\n",
       "      <td>128707.158791</td>\n",
       "      <td>5402.410262</td>\n",
       "    </tr>\n",
       "    <tr>\n",
       "      <th>bmw</th>\n",
       "      <td>132572.513140</td>\n",
       "      <td>8332.820518</td>\n",
       "    </tr>\n",
       "    <tr>\n",
       "      <th>opel</th>\n",
       "      <td>129310.035842</td>\n",
       "      <td>2975.241935</td>\n",
       "    </tr>\n",
       "    <tr>\n",
       "      <th>mercedes_benz</th>\n",
       "      <td>130788.363313</td>\n",
       "      <td>8628.450366</td>\n",
       "    </tr>\n",
       "    <tr>\n",
       "      <th>audi</th>\n",
       "      <td>129157.386785</td>\n",
       "      <td>9336.687454</td>\n",
       "    </tr>\n",
       "    <tr>\n",
       "      <th>ford</th>\n",
       "      <td>124266.012872</td>\n",
       "      <td>3749.469507</td>\n",
       "    </tr>\n",
       "  </tbody>\n",
       "</table>\n",
       "</div>"
      ],
      "text/plain": [
       "                mean_mileage   mean_price\n",
       "volkswagen     128707.158791  5402.410262\n",
       "bmw            132572.513140  8332.820518\n",
       "opel           129310.035842  2975.241935\n",
       "mercedes_benz  130788.363313  8628.450366\n",
       "audi           129157.386785  9336.687454\n",
       "ford           124266.012872  3749.469507"
      ]
     },
     "execution_count": 49,
     "metadata": {},
     "output_type": "execute_result"
    }
   ],
   "source": [
    "mileage_sr = pd.Series(mileage_dict)\n",
    "price_sr = pd.Series(brand_dict)\n",
    "new_df = pd.DataFrame(mileage_sr, columns = ['mean_mileage'])\n",
    "new_df['mean_price'] = price_sr\n",
    "new_df"
   ]
  },
  {
   "cell_type": "markdown",
   "id": "52ba50d1-f8dc-4fef-b781-a8291dca463d",
   "metadata": {},
   "source": [
    "mean mileage and mean price do not have much colleration"
   ]
  },
  {
   "cell_type": "markdown",
   "id": "b615e333-8e6d-4133-acf2-2952c9bc0121",
   "metadata": {},
   "source": [
    "# Further cleaning"
   ]
  },
  {
   "cell_type": "markdown",
   "id": "13b78a42-bbd6-454c-b46f-7c264eb3a80f",
   "metadata": {},
   "source": [
    "Identify categorical data that uses german words, translate them and map the values to their english counterparts"
   ]
  },
  {
   "cell_type": "code",
   "execution_count": 53,
   "id": "b1299c63-6ea6-4394-bee5-90b24260f80c",
   "metadata": {},
   "outputs": [
    {
     "data": {
      "text/plain": [
       "unrepaired_damage\n",
       "nein    33834\n",
       "ja       4540\n",
       "Name: count, dtype: int64"
      ]
     },
     "execution_count": 53,
     "metadata": {},
     "output_type": "execute_result"
    }
   ],
   "source": [
    "autos['unrepaired_damage'].value_counts()"
   ]
  },
  {
   "cell_type": "code",
   "execution_count": 54,
   "id": "56db67b6-7c20-41c5-b144-72ee95060071",
   "metadata": {},
   "outputs": [
    {
     "data": {
      "text/plain": [
       "unrepaired_damage\n",
       "no     33834\n",
       "yes     4540\n",
       "Name: count, dtype: int64"
      ]
     },
     "execution_count": 54,
     "metadata": {},
     "output_type": "execute_result"
    }
   ],
   "source": [
    "autos.loc[autos['unrepaired_damage'] == 'nein',['unrepaired_damage']] = 'no'\n",
    "autos.loc[autos['unrepaired_damage'] == 'ja',['unrepaired_damage']] = 'yes'\n",
    "autos['unrepaired_damage'].value_counts()"
   ]
  },
  {
   "cell_type": "code",
   "execution_count": 55,
   "id": "d08c4afe-bfa5-4cff-a69f-4c6a38281082",
   "metadata": {},
   "outputs": [
    {
     "data": {
      "text/plain": [
       "gearbox\n",
       "manuell      34715\n",
       "automatik     9856\n",
       "Name: count, dtype: int64"
      ]
     },
     "execution_count": 55,
     "metadata": {},
     "output_type": "execute_result"
    }
   ],
   "source": [
    "autos['gearbox'].value_counts()"
   ]
  },
  {
   "cell_type": "code",
   "execution_count": 56,
   "id": "24b1c510-4c50-4093-98d5-faa3e5d0f18a",
   "metadata": {},
   "outputs": [
    {
     "data": {
      "text/plain": [
       "gearbox\n",
       "manual       34715\n",
       "automatic     9856\n",
       "Name: count, dtype: int64"
      ]
     },
     "execution_count": 56,
     "metadata": {},
     "output_type": "execute_result"
    }
   ],
   "source": [
    "autos.loc[autos['gearbox'] == 'manuell',['gearbox']] = 'manual'\n",
    "autos.loc[autos['gearbox'] == 'automatik',['gearbox']] = 'automatic'\n",
    "autos['gearbox'].value_counts()"
   ]
  },
  {
   "cell_type": "markdown",
   "id": "f94ea70f-0801-4b21-9ebd-641468bdf84c",
   "metadata": {},
   "source": [
    "Convert the dates to be uniform numeric data, so \"2016-03-21\" becomes the integer 20160321"
   ]
  },
  {
   "cell_type": "code",
   "execution_count": 58,
   "id": "83e3f667-5c1d-4081-8a1e-356e60edfc72",
   "metadata": {},
   "outputs": [
    {
     "data": {
      "text/html": [
       "<div>\n",
       "<style scoped>\n",
       "    .dataframe tbody tr th:only-of-type {\n",
       "        vertical-align: middle;\n",
       "    }\n",
       "\n",
       "    .dataframe tbody tr th {\n",
       "        vertical-align: top;\n",
       "    }\n",
       "\n",
       "    .dataframe thead th {\n",
       "        text-align: right;\n",
       "    }\n",
       "</style>\n",
       "<table border=\"1\" class=\"dataframe\">\n",
       "  <thead>\n",
       "    <tr style=\"text-align: right;\">\n",
       "      <th></th>\n",
       "      <th>date_crawled</th>\n",
       "      <th>name</th>\n",
       "      <th>seller</th>\n",
       "      <th>offer_type</th>\n",
       "      <th>price</th>\n",
       "      <th>abtest</th>\n",
       "      <th>vehicle_type</th>\n",
       "      <th>registration_year</th>\n",
       "      <th>gearbox</th>\n",
       "      <th>powerps</th>\n",
       "      <th>model</th>\n",
       "      <th>odometer_km</th>\n",
       "      <th>registration_month</th>\n",
       "      <th>fuel_type</th>\n",
       "      <th>brand</th>\n",
       "      <th>unrepaired_damage</th>\n",
       "      <th>ad_created</th>\n",
       "      <th>nr_pictures</th>\n",
       "      <th>postal_code</th>\n",
       "      <th>last_seen</th>\n",
       "    </tr>\n",
       "  </thead>\n",
       "  <tbody>\n",
       "    <tr>\n",
       "      <th>0</th>\n",
       "      <td>20160326</td>\n",
       "      <td>Peugeot_807_160_NAVTECH_ON_BOARD</td>\n",
       "      <td>privat</td>\n",
       "      <td>Angebot</td>\n",
       "      <td>5000.0</td>\n",
       "      <td>control</td>\n",
       "      <td>bus</td>\n",
       "      <td>2004</td>\n",
       "      <td>manual</td>\n",
       "      <td>158</td>\n",
       "      <td>andere</td>\n",
       "      <td>150000.0</td>\n",
       "      <td>3</td>\n",
       "      <td>lpg</td>\n",
       "      <td>peugeot</td>\n",
       "      <td>no</td>\n",
       "      <td>2016-03-26 00:00:00</td>\n",
       "      <td>0</td>\n",
       "      <td>79588</td>\n",
       "      <td>2016-04-06 06:45:54</td>\n",
       "    </tr>\n",
       "    <tr>\n",
       "      <th>1</th>\n",
       "      <td>20160404</td>\n",
       "      <td>BMW_740i_4_4_Liter_HAMANN_UMBAU_Mega_Optik</td>\n",
       "      <td>privat</td>\n",
       "      <td>Angebot</td>\n",
       "      <td>8500.0</td>\n",
       "      <td>control</td>\n",
       "      <td>limousine</td>\n",
       "      <td>1997</td>\n",
       "      <td>automatic</td>\n",
       "      <td>286</td>\n",
       "      <td>7er</td>\n",
       "      <td>150000.0</td>\n",
       "      <td>6</td>\n",
       "      <td>benzin</td>\n",
       "      <td>bmw</td>\n",
       "      <td>no</td>\n",
       "      <td>2016-04-04 00:00:00</td>\n",
       "      <td>0</td>\n",
       "      <td>71034</td>\n",
       "      <td>2016-04-06 14:45:08</td>\n",
       "    </tr>\n",
       "    <tr>\n",
       "      <th>2</th>\n",
       "      <td>20160326</td>\n",
       "      <td>Volkswagen_Golf_1.6_United</td>\n",
       "      <td>privat</td>\n",
       "      <td>Angebot</td>\n",
       "      <td>8990.0</td>\n",
       "      <td>test</td>\n",
       "      <td>limousine</td>\n",
       "      <td>2009</td>\n",
       "      <td>manual</td>\n",
       "      <td>102</td>\n",
       "      <td>golf</td>\n",
       "      <td>70000.0</td>\n",
       "      <td>7</td>\n",
       "      <td>benzin</td>\n",
       "      <td>volkswagen</td>\n",
       "      <td>no</td>\n",
       "      <td>2016-03-26 00:00:00</td>\n",
       "      <td>0</td>\n",
       "      <td>35394</td>\n",
       "      <td>2016-04-06 20:15:37</td>\n",
       "    </tr>\n",
       "    <tr>\n",
       "      <th>3</th>\n",
       "      <td>20160312</td>\n",
       "      <td>Smart_smart_fortwo_coupe_softouch/F1/Klima/Pan...</td>\n",
       "      <td>privat</td>\n",
       "      <td>Angebot</td>\n",
       "      <td>4350.0</td>\n",
       "      <td>control</td>\n",
       "      <td>kleinwagen</td>\n",
       "      <td>2007</td>\n",
       "      <td>automatic</td>\n",
       "      <td>71</td>\n",
       "      <td>fortwo</td>\n",
       "      <td>70000.0</td>\n",
       "      <td>6</td>\n",
       "      <td>benzin</td>\n",
       "      <td>smart</td>\n",
       "      <td>no</td>\n",
       "      <td>2016-03-12 00:00:00</td>\n",
       "      <td>0</td>\n",
       "      <td>33729</td>\n",
       "      <td>2016-03-15 03:16:28</td>\n",
       "    </tr>\n",
       "    <tr>\n",
       "      <th>4</th>\n",
       "      <td>20160401</td>\n",
       "      <td>Ford_Focus_1_6_Benzin_TÜV_neu_ist_sehr_gepfleg...</td>\n",
       "      <td>privat</td>\n",
       "      <td>Angebot</td>\n",
       "      <td>1350.0</td>\n",
       "      <td>test</td>\n",
       "      <td>kombi</td>\n",
       "      <td>2003</td>\n",
       "      <td>manual</td>\n",
       "      <td>0</td>\n",
       "      <td>focus</td>\n",
       "      <td>150000.0</td>\n",
       "      <td>7</td>\n",
       "      <td>benzin</td>\n",
       "      <td>ford</td>\n",
       "      <td>no</td>\n",
       "      <td>2016-04-01 00:00:00</td>\n",
       "      <td>0</td>\n",
       "      <td>39218</td>\n",
       "      <td>2016-04-01 14:38:50</td>\n",
       "    </tr>\n",
       "  </tbody>\n",
       "</table>\n",
       "</div>"
      ],
      "text/plain": [
       "   date_crawled                                               name  seller  \\\n",
       "0      20160326                   Peugeot_807_160_NAVTECH_ON_BOARD  privat   \n",
       "1      20160404         BMW_740i_4_4_Liter_HAMANN_UMBAU_Mega_Optik  privat   \n",
       "2      20160326                         Volkswagen_Golf_1.6_United  privat   \n",
       "3      20160312  Smart_smart_fortwo_coupe_softouch/F1/Klima/Pan...  privat   \n",
       "4      20160401  Ford_Focus_1_6_Benzin_TÜV_neu_ist_sehr_gepfleg...  privat   \n",
       "\n",
       "  offer_type   price   abtest vehicle_type  registration_year    gearbox  \\\n",
       "0    Angebot  5000.0  control          bus               2004     manual   \n",
       "1    Angebot  8500.0  control    limousine               1997  automatic   \n",
       "2    Angebot  8990.0     test    limousine               2009     manual   \n",
       "3    Angebot  4350.0  control   kleinwagen               2007  automatic   \n",
       "4    Angebot  1350.0     test        kombi               2003     manual   \n",
       "\n",
       "   powerps   model  odometer_km  registration_month fuel_type       brand  \\\n",
       "0      158  andere     150000.0                   3       lpg     peugeot   \n",
       "1      286     7er     150000.0                   6    benzin         bmw   \n",
       "2      102    golf      70000.0                   7    benzin  volkswagen   \n",
       "3       71  fortwo      70000.0                   6    benzin       smart   \n",
       "4        0   focus     150000.0                   7    benzin        ford   \n",
       "\n",
       "  unrepaired_damage           ad_created  nr_pictures  postal_code  \\\n",
       "0                no  2016-03-26 00:00:00            0        79588   \n",
       "1                no  2016-04-04 00:00:00            0        71034   \n",
       "2                no  2016-03-26 00:00:00            0        35394   \n",
       "3                no  2016-03-12 00:00:00            0        33729   \n",
       "4                no  2016-04-01 00:00:00            0        39218   \n",
       "\n",
       "             last_seen  \n",
       "0  2016-04-06 06:45:54  \n",
       "1  2016-04-06 14:45:08  \n",
       "2  2016-04-06 20:15:37  \n",
       "3  2016-03-15 03:16:28  \n",
       "4  2016-04-01 14:38:50  "
      ]
     },
     "execution_count": 58,
     "metadata": {},
     "output_type": "execute_result"
    }
   ],
   "source": [
    "autos['date_crawled'] = (pd.to_datetime(autos['date_crawled']).dt.strftime('%Y%m%d')).astype(int)\n",
    "autos.head()"
   ]
  },
  {
   "cell_type": "markdown",
   "id": "d511b192-da94-4042-a231-ebf94f03b77a",
   "metadata": {},
   "source": [
    "See if there are particular keywords in the name column that you can extract as new columns"
   ]
  },
  {
   "cell_type": "code",
   "execution_count": 60,
   "id": "67e90945-30e3-472a-a12d-19317c14929a",
   "metadata": {},
   "outputs": [
    {
     "data": {
      "text/html": [
       "<div>\n",
       "<style scoped>\n",
       "    .dataframe tbody tr th:only-of-type {\n",
       "        vertical-align: middle;\n",
       "    }\n",
       "\n",
       "    .dataframe tbody tr th {\n",
       "        vertical-align: top;\n",
       "    }\n",
       "\n",
       "    .dataframe thead th {\n",
       "        text-align: right;\n",
       "    }\n",
       "</style>\n",
       "<table border=\"1\" class=\"dataframe\">\n",
       "  <thead>\n",
       "    <tr style=\"text-align: right;\">\n",
       "      <th></th>\n",
       "      <th>0</th>\n",
       "      <th>1</th>\n",
       "      <th>2</th>\n",
       "    </tr>\n",
       "  </thead>\n",
       "  <tbody>\n",
       "    <tr>\n",
       "      <th>0</th>\n",
       "      <td>Peugeot</td>\n",
       "      <td>807</td>\n",
       "      <td>160_NAVTECH_ON_BOARD</td>\n",
       "    </tr>\n",
       "    <tr>\n",
       "      <th>1</th>\n",
       "      <td>BMW</td>\n",
       "      <td>740i</td>\n",
       "      <td>4_4_Liter_HAMANN_UMBAU_Mega_Optik</td>\n",
       "    </tr>\n",
       "    <tr>\n",
       "      <th>2</th>\n",
       "      <td>Volkswagen</td>\n",
       "      <td>Golf</td>\n",
       "      <td>1.6_United</td>\n",
       "    </tr>\n",
       "    <tr>\n",
       "      <th>3</th>\n",
       "      <td>Smart</td>\n",
       "      <td>smart</td>\n",
       "      <td>fortwo_coupe_softouch/F1/Klima/Panorama</td>\n",
       "    </tr>\n",
       "    <tr>\n",
       "      <th>4</th>\n",
       "      <td>Ford</td>\n",
       "      <td>Focus</td>\n",
       "      <td>1_6_Benzin_TÜV_neu_ist_sehr_gepflegt.mit_Klima...</td>\n",
       "    </tr>\n",
       "    <tr>\n",
       "      <th>...</th>\n",
       "      <td>...</td>\n",
       "      <td>...</td>\n",
       "      <td>...</td>\n",
       "    </tr>\n",
       "    <tr>\n",
       "      <th>49995</th>\n",
       "      <td>Audi</td>\n",
       "      <td>Q5</td>\n",
       "      <td>3.0_TDI_qu._S_tr.__Navi__Panorama__Xenon</td>\n",
       "    </tr>\n",
       "    <tr>\n",
       "      <th>49996</th>\n",
       "      <td>Opel</td>\n",
       "      <td>Astra</td>\n",
       "      <td>F_Cabrio_Bertone_Edition___TÜV_neu+Reifen_neu_!!</td>\n",
       "    </tr>\n",
       "    <tr>\n",
       "      <th>49997</th>\n",
       "      <td>Fiat</td>\n",
       "      <td>500</td>\n",
       "      <td>C_1.2_Dualogic_Lounge</td>\n",
       "    </tr>\n",
       "    <tr>\n",
       "      <th>49998</th>\n",
       "      <td>Audi</td>\n",
       "      <td>A3</td>\n",
       "      <td>2.0_TDI_Sportback_Ambition</td>\n",
       "    </tr>\n",
       "    <tr>\n",
       "      <th>49999</th>\n",
       "      <td>Opel</td>\n",
       "      <td>Vectra</td>\n",
       "      <td>1.6_16V</td>\n",
       "    </tr>\n",
       "  </tbody>\n",
       "</table>\n",
       "<p>46681 rows × 3 columns</p>\n",
       "</div>"
      ],
      "text/plain": [
       "                0       1                                                  2\n",
       "0         Peugeot     807                               160_NAVTECH_ON_BOARD\n",
       "1             BMW    740i                  4_4_Liter_HAMANN_UMBAU_Mega_Optik\n",
       "2      Volkswagen    Golf                                         1.6_United\n",
       "3           Smart   smart            fortwo_coupe_softouch/F1/Klima/Panorama\n",
       "4            Ford   Focus  1_6_Benzin_TÜV_neu_ist_sehr_gepflegt.mit_Klima...\n",
       "...           ...     ...                                                ...\n",
       "49995        Audi      Q5           3.0_TDI_qu._S_tr.__Navi__Panorama__Xenon\n",
       "49996        Opel   Astra   F_Cabrio_Bertone_Edition___TÜV_neu+Reifen_neu_!!\n",
       "49997        Fiat     500                              C_1.2_Dualogic_Lounge\n",
       "49998        Audi      A3                         2.0_TDI_Sportback_Ambition\n",
       "49999        Opel  Vectra                                            1.6_16V\n",
       "\n",
       "[46681 rows x 3 columns]"
      ]
     },
     "execution_count": 60,
     "metadata": {},
     "output_type": "execute_result"
    }
   ],
   "source": [
    "split_name = autos['name'].str.split('_',n=2,expand=True)\n",
    "split_name"
   ]
  },
  {
   "cell_type": "code",
   "execution_count": 61,
   "id": "a407cb42-ae2c-4d17-84e2-78d5eb92628b",
   "metadata": {},
   "outputs": [],
   "source": [
    "autos['new_name'] = split_name[0] + '_' + split_name[1]"
   ]
  },
  {
   "cell_type": "code",
   "execution_count": 62,
   "id": "09065f1a-1510-494b-a84d-178b5469ed42",
   "metadata": {},
   "outputs": [
    {
     "data": {
      "text/plain": [
       "new_name\n",
       "Mercedes_Benz        3159\n",
       "Volkswagen_Golf      1821\n",
       "Opel_Corsa           1195\n",
       "Opel_Astra           1072\n",
       "Audi_A4              1006\n",
       "Volkswagen_Passat     730\n",
       "Volkswagen_Polo       688\n",
       "Audi_A6               665\n",
       "Ford_Focus            652\n",
       "Audi_A3               646\n",
       "Ford_Fiesta           585\n",
       "VW_Golf               468\n",
       "Renault_Twingo        436\n",
       "Peugeot_206           402\n",
       "Ford_Mondeo           381\n",
       "Opel_Vectra           379\n",
       "Renault_Clio          362\n",
       "VW_Polo               335\n",
       "Opel_Zafira           302\n",
       "Fiat_Punto            271\n",
       "Name: count, dtype: int64"
      ]
     },
     "execution_count": 62,
     "metadata": {},
     "output_type": "execute_result"
    }
   ],
   "source": [
    "autos['new_name'].value_counts().head(20)"
   ]
  },
  {
   "cell_type": "markdown",
   "id": "47cdaa83-bd42-441d-b6ee-916eb7c09a8a",
   "metadata": {},
   "source": [
    "# Further analysis"
   ]
  },
  {
   "cell_type": "markdown",
   "id": "3a9a13db-e962-48e2-90bf-cf63eed2e330",
   "metadata": {},
   "source": [
    "Find the most common brand/model combinations"
   ]
  },
  {
   "cell_type": "code",
   "execution_count": 65,
   "id": "dfdc12b8-4e5e-482e-9b02-aeb20100221e",
   "metadata": {},
   "outputs": [],
   "source": [
    "autos['brand_model'] = autos['brand'] + '_' + autos['model']"
   ]
  },
  {
   "cell_type": "code",
   "execution_count": 66,
   "id": "baf09634-d337-4969-b6ef-ea54267d7823",
   "metadata": {},
   "outputs": [
    {
     "data": {
      "text/plain": [
       "brand_model\n",
       "volkswagen_golf           3707\n",
       "bmw_3er                   2615\n",
       "volkswagen_polo           1609\n",
       "opel_corsa                1592\n",
       "volkswagen_passat         1349\n",
       "opel_astra                1348\n",
       "audi_a4                   1231\n",
       "mercedes_benz_c_klasse    1136\n",
       "bmw_5er                   1132\n",
       "mercedes_benz_e_klasse     958\n",
       "audi_a3                    825\n",
       "audi_a6                    797\n",
       "ford_focus                 762\n",
       "ford_fiesta                722\n",
       "volkswagen_transporter     674\n",
       "renault_twingo             615\n",
       "peugeot_2_reihe            600\n",
       "smart_fortwo               550\n",
       "opel_vectra                544\n",
       "mercedes_benz_a_klasse     539\n",
       "Name: count, dtype: int64"
      ]
     },
     "execution_count": 66,
     "metadata": {},
     "output_type": "execute_result"
    }
   ],
   "source": [
    "autos['brand_model'].value_counts().head(20)"
   ]
  },
  {
   "cell_type": "markdown",
   "id": "03510b97-f775-4513-be71-08dcaf9fe30f",
   "metadata": {},
   "source": [
    "Split the odometer_km into groups, and use aggregation to see if average prices follows any patterns based on the mileage."
   ]
  },
  {
   "cell_type": "code",
   "execution_count": 68,
   "id": "035adf07-8760-4f4a-9e75-dd374d2ad77b",
   "metadata": {},
   "outputs": [
    {
     "data": {
      "text/plain": [
       "odometer_km\n",
       "150000.0    30085\n",
       "125000.0     4857\n",
       "100000.0     2058\n",
       "90000.0      1673\n",
       "80000.0      1375\n",
       "70000.0      1187\n",
       "60000.0      1128\n",
       "50000.0       993\n",
       "40000.0       797\n",
       "5000.0        785\n",
       "30000.0       760\n",
       "20000.0       742\n",
       "10000.0       241\n",
       "Name: count, dtype: int64"
      ]
     },
     "execution_count": 68,
     "metadata": {},
     "output_type": "execute_result"
    }
   ],
   "source": [
    "autos['odometer_km'].value_counts()"
   ]
  },
  {
   "cell_type": "code",
   "execution_count": 69,
   "id": "d0c9bd1e-0077-41ed-b470-b26c19a82c6d",
   "metadata": {},
   "outputs": [],
   "source": [
    "odo_list = autos['odometer_km'].unique()"
   ]
  },
  {
   "cell_type": "code",
   "execution_count": 70,
   "id": "15c7d450-2162-44a8-9fff-ce0caff8df18",
   "metadata": {},
   "outputs": [
    {
     "data": {
      "text/html": [
       "<div>\n",
       "<style scoped>\n",
       "    .dataframe tbody tr th:only-of-type {\n",
       "        vertical-align: middle;\n",
       "    }\n",
       "\n",
       "    .dataframe tbody tr th {\n",
       "        vertical-align: top;\n",
       "    }\n",
       "\n",
       "    .dataframe thead th {\n",
       "        text-align: right;\n",
       "    }\n",
       "</style>\n",
       "<table border=\"1\" class=\"dataframe\">\n",
       "  <thead>\n",
       "    <tr style=\"text-align: right;\">\n",
       "      <th></th>\n",
       "      <th>mean_price</th>\n",
       "    </tr>\n",
       "  </thead>\n",
       "  <tbody>\n",
       "    <tr>\n",
       "      <th>5000.0</th>\n",
       "      <td>8873.515924</td>\n",
       "    </tr>\n",
       "    <tr>\n",
       "      <th>10000.0</th>\n",
       "      <td>20550.867220</td>\n",
       "    </tr>\n",
       "    <tr>\n",
       "      <th>20000.0</th>\n",
       "      <td>18448.477089</td>\n",
       "    </tr>\n",
       "    <tr>\n",
       "      <th>30000.0</th>\n",
       "      <td>16608.836842</td>\n",
       "    </tr>\n",
       "    <tr>\n",
       "      <th>40000.0</th>\n",
       "      <td>15499.568381</td>\n",
       "    </tr>\n",
       "    <tr>\n",
       "      <th>50000.0</th>\n",
       "      <td>13812.173212</td>\n",
       "    </tr>\n",
       "    <tr>\n",
       "      <th>60000.0</th>\n",
       "      <td>12385.004433</td>\n",
       "    </tr>\n",
       "    <tr>\n",
       "      <th>70000.0</th>\n",
       "      <td>10927.182814</td>\n",
       "    </tr>\n",
       "    <tr>\n",
       "      <th>80000.0</th>\n",
       "      <td>9721.947636</td>\n",
       "    </tr>\n",
       "    <tr>\n",
       "      <th>90000.0</th>\n",
       "      <td>8465.025105</td>\n",
       "    </tr>\n",
       "    <tr>\n",
       "      <th>100000.0</th>\n",
       "      <td>8132.697279</td>\n",
       "    </tr>\n",
       "    <tr>\n",
       "      <th>125000.0</th>\n",
       "      <td>6214.022030</td>\n",
       "    </tr>\n",
       "    <tr>\n",
       "      <th>150000.0</th>\n",
       "      <td>3767.927107</td>\n",
       "    </tr>\n",
       "  </tbody>\n",
       "</table>\n",
       "</div>"
      ],
      "text/plain": [
       "            mean_price\n",
       "5000.0     8873.515924\n",
       "10000.0   20550.867220\n",
       "20000.0   18448.477089\n",
       "30000.0   16608.836842\n",
       "40000.0   15499.568381\n",
       "50000.0   13812.173212\n",
       "60000.0   12385.004433\n",
       "70000.0   10927.182814\n",
       "80000.0    9721.947636\n",
       "90000.0    8465.025105\n",
       "100000.0   8132.697279\n",
       "125000.0   6214.022030\n",
       "150000.0   3767.927107"
      ]
     },
     "execution_count": 70,
     "metadata": {},
     "output_type": "execute_result"
    }
   ],
   "source": [
    "odo_dict = {}\n",
    "for i in odo_list:\n",
    "    p = autos[autos['odometer_km'] == i]['price'].mean()\n",
    "    odo_dict[i] = p\n",
    "odo_sr = pd.Series(odo_dict)\n",
    "odo_df = pd.DataFrame(odo_sr,columns = ['mean_price'])\n",
    "odo_df.sort_index()    "
   ]
  },
  {
   "cell_type": "markdown",
   "id": "a2a71edc-72ff-4c37-9a8b-cbf149f87045",
   "metadata": {},
   "source": [
    "--> high mileage seems to be cheaper than, except for very low mileage of 5000 km"
   ]
  },
  {
   "cell_type": "markdown",
   "id": "bb04b3ff-b1d4-4bbc-a01f-2f29b1d15dc3",
   "metadata": {},
   "source": [
    "How much cheaper are cars with damage than their non-damaged counterparts"
   ]
  },
  {
   "cell_type": "code",
   "execution_count": 73,
   "id": "98a6a43c-8ffd-4bc0-b187-4e7e40f6ad80",
   "metadata": {},
   "outputs": [
    {
     "data": {
      "text/plain": [
       "2241.146035242291"
      ]
     },
     "execution_count": 73,
     "metadata": {},
     "output_type": "execute_result"
    }
   ],
   "source": [
    "autos[autos['unrepaired_damage'] == 'yes']['price'].mean()"
   ]
  },
  {
   "cell_type": "code",
   "execution_count": 74,
   "id": "c7e9e6b1-3d26-408c-abbf-eac186346076",
   "metadata": {},
   "outputs": [
    {
     "data": {
      "text/plain": [
       "7164.033102796004"
      ]
     },
     "execution_count": 74,
     "metadata": {},
     "output_type": "execute_result"
    }
   ],
   "source": [
    "autos[autos['unrepaired_damage'] == 'no']['price'].mean()"
   ]
  }
 ],
 "metadata": {
  "kernelspec": {
   "display_name": "Python 3 (ipykernel)",
   "language": "python",
   "name": "python3"
  },
  "language_info": {
   "codemirror_mode": {
    "name": "ipython",
    "version": 3
   },
   "file_extension": ".py",
   "mimetype": "text/x-python",
   "name": "python",
   "nbconvert_exporter": "python",
   "pygments_lexer": "ipython3",
   "version": "3.12.7"
  }
 },
 "nbformat": 4,
 "nbformat_minor": 5
}
